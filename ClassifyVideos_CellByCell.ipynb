{
 "cells": [
  {
   "cell_type": "markdown",
   "metadata": {},
   "source": [
    "### Imports, directory, and parser set-up"
   ]
  },
  {
   "cell_type": "code",
   "execution_count": 1,
   "metadata": {},
   "outputs": [],
   "source": [
    "import argparse, subprocess, datetime, os, pdb, sys"
   ]
  },
  {
   "cell_type": "code",
   "execution_count": 2,
   "metadata": {},
   "outputs": [],
   "source": [
    "# Get the HOME environment variable, with a fallback to the user's directory on Windows\n",
    "home_dir = os.getenv(\"HOME\") or os.path.expanduser(\"~\")"
   ]
  },
  {
   "cell_type": "code",
   "execution_count": 3,
   "metadata": {},
   "outputs": [],
   "source": [
    "parser = argparse.ArgumentParser(description='This script takes a model, and apply this model to new video clips')"
   ]
  },
  {
   "cell_type": "markdown",
   "metadata": {},
   "source": [
    "### Input data"
   ]
  },
  {
   "cell_type": "code",
   "execution_count": 4,
   "metadata": {},
   "outputs": [
    {
     "name": "stdout",
     "output_type": "stream",
     "text": [
      "Using input videos directory: /home/hice1/kpatherya3/data/labeled_videos\n"
     ]
    }
   ],
   "source": [
    "# 1. Directory of video clips\n",
    "parser.add_argument('--Input_videos_directory',\n",
    "                    type = str, \n",
    "                    default = os.path.join(home_dir,'data/labeled_videos'),\n",
    "                    required = False, \n",
    "                    help = 'Name of directory to hold all video clips')\n",
    "\n",
    "\n",
    "args, unknown = parser.parse_known_args()\n",
    "if not os.path.exists(args.Input_videos_directory):\n",
    "    print(\"path does not exist, creating path\")\n",
    "    os.makedirs(args.Input_videos_directory)\n",
    "\n",
    "print(f\"Using input videos directory: {args.Input_videos_directory}\")"
   ]
  },
  {
   "cell_type": "code",
   "execution_count": 5,
   "metadata": {},
   "outputs": [
    {
     "name": "stdout",
     "output_type": "stream",
     "text": [
      "Using videos to project file directory: /home/hice1/kpatherya3/data/project_animal_map.csv\n"
     ]
    }
   ],
   "source": [
    "# 2. Mapping of video clips to project\n",
    "parser.add_argument('--Videos_to_project_file',\n",
    "                    type = str, \n",
    "                    default = os.path.join(home_dir,'data/project_animal_map.csv'),\n",
    "                    help = 'Project each animal belongs to')\n",
    "\n",
    "args, unknown = parser.parse_known_args()\n",
    "if not os.path.exists(args.Videos_to_project_file):\n",
    "    print(\"path does not exist, creating path\")\n",
    "    os.makedirs(args.Videos_to_project_file)\n",
    "\n",
    "print(f\"Using videos to project file directory: {args.Videos_to_project_file}\")"
   ]
  },
  {
   "cell_type": "code",
   "execution_count": 6,
   "metadata": {},
   "outputs": [
    {
     "name": "stdout",
     "output_type": "stream",
     "text": [
      "Using trained model directory: /home/hice1/kpatherya3/data/save_50.pth\n"
     ]
    }
   ],
   "source": [
    "# 3. Saving the previous training's model results\n",
    "parser.add_argument('--Trained_model',\n",
    "                    default = os.path.join(home_dir,'data/save_50.pth'),\n",
    "                    type = str,\n",
    "                    help = 'Save data (.pth) of previous training')\n",
    "\n",
    "args, unknown = parser.parse_known_args()\n",
    "if not os.path.exists(args.Trained_model):\n",
    "    print(\"path does not exist, creating path\")\n",
    "    os.makedirs(args.Trained_model)\n",
    "\n",
    "print(f\"Using trained model directory: {args.Trained_model}\")"
   ]
  },
  {
   "cell_type": "code",
   "execution_count": 7,
   "metadata": {},
   "outputs": [
    {
     "name": "stdout",
     "output_type": "stream",
     "text": [
      "path does not exist, creating path\n",
      "Using trained categories directory: /home/hice1/kpatherya3/data/source.json\n"
     ]
    }
   ],
   "source": [
    "# 4. JSON file previously used for training\n",
    "parser.add_argument('--Trained_categories',\n",
    "                    type = str, \n",
    "                    default = os.path.join(home_dir,'data/source.json'),\n",
    "                    help = 'JSON file previously used for training')\n",
    "\n",
    "args, unknown = parser.parse_known_args()\n",
    "if not os.path.exists(args.Trained_categories):\n",
    "    print(\"path does not exist, creating path\")\n",
    "    os.makedirs(args.Trained_categories)\n",
    "\n",
    "print(f\"Using trained categories directory: {args.Trained_categories}\")"
   ]
  },
  {
   "cell_type": "code",
   "execution_count": 8,
   "metadata": {},
   "outputs": [
    {
     "name": "stdout",
     "output_type": "stream",
     "text": [
      "Using trained options directory: /home/hice1/kpatherya3/data/log_test\n"
     ]
    }
   ],
   "source": [
    "# 5. Log file used for training\n",
    "parser.add_argument('--Training_options',\n",
    "                    type = str, \n",
    "                    default = os.path.join(home_dir,'data/log_test'),\n",
    "                    help = 'log file in training')\n",
    "\n",
    "args, unknown = parser.parse_known_args()\n",
    "if not os.path.exists(args.Training_options):\n",
    "    print(\"path does not exist, creating path\")\n",
    "    os.makedirs(args.Trained_options)\n",
    "\n",
    "print(f\"Using trained options directory: {args.Training_options}\")"
   ]
  },
  {
   "cell_type": "code",
   "execution_count": 9,
   "metadata": {},
   "outputs": [
    {
     "name": "stdout",
     "output_type": "stream",
     "text": [
      "path does not exist, creating path\n",
      "Using output file directory: /home/hice1/kpatherya3/data/output.csv\n"
     ]
    }
   ],
   "source": [
    "# 6. Output CSV that details the confidence and label for each video clip \n",
    "parser.add_argument('--Output_file',\n",
    "                    type = str, \n",
    "                    default = os.path.join(home_dir,'data/output.csv'),\n",
    "                    help = 'CSV file that keeps the confidence and label for each video clip')\n",
    "\n",
    "args, unknown = parser.parse_known_args()\n",
    "if not os.path.exists(args.Output_file):\n",
    "    print(\"path does not exist, creating path\")\n",
    "    os.makedirs(args.Output_file)\n",
    "\n",
    "print(f\"Using output file directory: {args.Output_file}\")"
   ]
  },
  {
   "cell_type": "markdown",
   "metadata": {},
   "source": [
    "### Temporary directory that would be deleted at the end of the analysis"
   ]
  },
  {
   "cell_type": "code",
   "execution_count": 10,
   "metadata": {},
   "outputs": [
    {
     "name": "stdout",
     "output_type": "stream",
     "text": [
      "path does not exist, creating path\n",
      "Using temporary clips directory: /home/hice1/kpatherya3/data/clips_temp\n"
     ]
    }
   ],
   "source": [
    "# 10. Location of temporary clips\n",
    "parser.add_argument('--Temporary_clips_directory',\n",
    "                    default = os.path.join(home_dir,'data/clips_temp'),\n",
    "                    type = str, \n",
    "                    required = False, \n",
    "                    help = 'Location for temp clips to be stored')\n",
    "\n",
    "args, unknown = parser.parse_known_args()\n",
    "if not os.path.exists(args.Temporary_clips_directory):\n",
    "    print(\"path does not exist, creating path\")\n",
    "    os.makedirs(args.Temporary_clips_directory)\n",
    "\n",
    "print(f\"Using temporary clips directory: {args.Temporary_clips_directory}\")"
   ]
  },
  {
   "cell_type": "code",
   "execution_count": 11,
   "metadata": {},
   "outputs": [
    {
     "name": "stdout",
     "output_type": "stream",
     "text": [
      "path does not exist, creating path\n",
      "Using temporary clips directory: /home/hice1/kpatherya3/data/intermediate_temp\n"
     ]
    }
   ],
   "source": [
    "# 11. Location of temporary files\n",
    "parser.add_argument('--Temporary_output_directory',\n",
    "                    default = os.path.join(home_dir,'data/intermediate_temp'),\n",
    "                    type = str, \n",
    "                    required = False, \n",
    "                    help = 'Location for temp files to be stored')\n",
    "\n",
    "args, unknown = parser.parse_known_args()\n",
    "if not os.path.exists(args.Temporary_output_directory):\n",
    "    print(\"path does not exist, creating path\")\n",
    "    os.makedirs(args.Temporary_output_directory)\n",
    "\n",
    "print(f\"Using temporary clips directory: {args.Temporary_output_directory}\")"
   ]
  },
  {
   "cell_type": "markdown",
   "metadata": {},
   "source": [
    "### Arguments that don't require a file to be passed in"
   ]
  },
  {
   "cell_type": "code",
   "execution_count": 12,
   "metadata": {},
   "outputs": [
    {
     "data": {
      "text/plain": [
       "_StoreAction(option_strings=['--gpu_card'], dest='gpu_card', nargs=None, const=None, default='1', type=<class 'str'>, choices=None, required=False, help='gpu card to use', metavar=None)"
      ]
     },
     "execution_count": 12,
     "metadata": {},
     "output_type": "execute_result"
    }
   ],
   "source": [
    "# 7. Purpose of the script\n",
    "parser.add_argument('--Purpose',\n",
    "                    type = str, \n",
    "                    default = 'classify',\n",
    "                    help = 'classify is the only function for this script for now')\n",
    "\n",
    "# 8. Batch size for the model\n",
    "parser.add_argument('--batch_size', \n",
    "                    default=13, \n",
    "                    type=int, help='Batch Size')\n",
    "\n",
    "# 9. Number of workers\n",
    "parser.add_argument('--n_threads',\n",
    "                    default=5,\n",
    "                    type=int,\n",
    "                    help='Number of threads for multi-thread loading')\n",
    "\n",
    "# 10. GPU card to use\n",
    "parser.add_argument('--gpu_card',\n",
    "                    default='1',\n",
    "                    type=str,\n",
    "                    help='gpu card to use')"
   ]
  },
  {
   "cell_type": "code",
   "execution_count": 13,
   "metadata": {},
   "outputs": [
    {
     "data": {
      "text/plain": [
       "_StoreAction(option_strings=['--sample_size'], dest='sample_size', nargs=None, const=None, default=120, type=<class 'int'>, choices=None, required=False, help='Height and width of inputs', metavar=None)"
      ]
     },
     "execution_count": 13,
     "metadata": {},
     "output_type": "execute_result"
    }
   ],
   "source": [
    "# Similar parameters, but these are for the dataloader\n",
    "\n",
    "# 12. The sample duration of each inputted clip\n",
    "parser.add_argument('--sample_duration',\n",
    "                    default=96,\n",
    "                    type=int,\n",
    "                    help='Temporal duration of inputs')\n",
    "\n",
    "# 13. Standardized height and width of inputs                    \n",
    "parser.add_argument('--sample_size',\n",
    "                    default=120,\n",
    "                    type=int,\n",
    "                    help='Height and width of inputs')"
   ]
  },
  {
   "cell_type": "code",
   "execution_count": 14,
   "metadata": {},
   "outputs": [
    {
     "data": {
      "text/plain": [
       "_StoreAction(option_strings=['--resnet_shortcut'], dest='resnet_shortcut', nargs=None, const=None, default='B', type=None, choices=None, required=False, help='Shortcut type of resnet (A | B)', metavar=None)"
      ]
     },
     "execution_count": 14,
     "metadata": {},
     "output_type": "execute_result"
    }
   ],
   "source": [
    "# 14. Parameters for the optimizer\n",
    "parser.add_argument('--learning_rate', default=0.1, type=float, help='Initial learning rate (divided by 10 while training by lr scheduler)')\n",
    "parser.add_argument('--momentum', default=0.9, type=float, help='Momentum')\n",
    "parser.add_argument('--dampening', default=0.9, type=float, help='dampening of SGD')\n",
    "parser.add_argument('--weight_decay', default=1e-5, type=float, help='Weight Decay')\n",
    "parser.add_argument('--nesterov', action='store_true', help='Nesterov momentum')\n",
    "parser.set_defaults(nesterov = False)\n",
    "parser.add_argument('--optimizer', default='sgd', type=str, help='Currently only support SGD')\n",
    "parser.add_argument('--lr_patience', default=10, type=int, help='Patience of LR scheduler. See documentation of ReduceLROnPlateau.')\n",
    "parser.add_argument('--resnet_shortcut', default='B', help='Shortcut type of resnet (A | B)')"
   ]
  },
  {
   "cell_type": "code",
   "execution_count": 15,
   "metadata": {},
   "outputs": [
    {
     "data": {
      "text/plain": [
       "_StoreAction(option_strings=['--n_classes'], dest='n_classes', nargs=None, const=None, default=10, type=<class 'int'>, choices=None, required=False, help=None, metavar=None)"
      ]
     },
     "execution_count": 15,
     "metadata": {},
     "output_type": "execute_result"
    }
   ],
   "source": [
    "# 15. Parameters specific for training from scratch\n",
    "parser.add_argument('--n_classes', default=10, type=int)"
   ]
  },
  {
   "cell_type": "code",
   "execution_count": 16,
   "metadata": {},
   "outputs": [],
   "source": [
    "# The code below is needed if you're running this script from a Jupyter notebook\n",
    "if 'ipykernel_launcher' in sys.argv[0]:\n",
    "    args, unknown = parser.parse_known_args()\n",
    "else:\n",
    "    args = parser.parse_args()"
   ]
  }
 ],
 "metadata": {
  "kernelspec": {
   "display_name": "Python 3 (ipykernel)",
   "language": "python",
   "name": "python3"
  },
  "language_info": {
   "codemirror_mode": {
    "name": "ipython",
    "version": 3
   },
   "file_extension": ".py",
   "mimetype": "text/x-python",
   "name": "python",
   "nbconvert_exporter": "python",
   "pygments_lexer": "ipython3",
   "version": "3.10.13"
  }
 },
 "nbformat": 4,
 "nbformat_minor": 2
}
