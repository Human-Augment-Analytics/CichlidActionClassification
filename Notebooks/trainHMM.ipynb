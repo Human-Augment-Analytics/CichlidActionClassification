{
  "nbformat": 4,
  "nbformat_minor": 0,
  "metadata": {
    "colab": {
      "provenance": [],
      "machine_shape": "hm"
    },
    "kernelspec": {
      "name": "python3",
      "display_name": "Python 3"
    },
    "language_info": {
      "name": "python"
    }
  },
  "cells": [
    {
      "cell_type": "code",
      "execution_count": 1,
      "metadata": {
        "colab": {
          "base_uri": "https://localhost:8080/"
        },
        "id": "VWhOsn_31DKu",
        "outputId": "907724ec-0095-4cc7-f547-20a5e747174d"
      },
      "outputs": [
        {
          "output_type": "stream",
          "name": "stdout",
          "text": [
            "Drive already mounted at /content/drive; to attempt to forcibly remount, call drive.mount(\"/content/drive\", force_remount=True).\n"
          ]
        }
      ],
      "source": [
        "# Mount Google Drive\n",
        "from google.colab import drive\n",
        "drive.mount('/content/drive')"
      ]
    },
    {
      "cell_type": "code",
      "source": [
        "import os\n",
        "\n",
        "# Define paths\n",
        "video_file = \"/content/drive/MyDrive/OMSCS/Cichlids/clipped_file_15mins.mp4\"\n",
        "clips_dir = \"/content/drive/MyDrive/OMSCS/Cichlids/clipped_clips/\""
      ],
      "metadata": {
        "id": "I2Rv5dzA1G-i"
      },
      "execution_count": 2,
      "outputs": []
    },
    {
      "cell_type": "code",
      "source": [
        "# Create the directory if it does not exist\n",
        "if not os.path.exists(clips_dir):\n",
        "    os.makedirs(clips_dir)"
      ],
      "metadata": {
        "id": "tr_-LEUzkiMP"
      },
      "execution_count": 3,
      "outputs": []
    },
    {
      "cell_type": "code",
      "source": [
        "!pip install torch torchvision\n",
        "!sudo apt update\n",
        "!sudo apt install ffmpeg\n",
        "!pip install av"
      ],
      "metadata": {
        "colab": {
          "base_uri": "https://localhost:8080/"
        },
        "id": "uW2_Ye_lklpD",
        "outputId": "f91f4ebb-b0a6-4e08-fe2f-9e9b9ab8b138"
      },
      "execution_count": 4,
      "outputs": [
        {
          "output_type": "stream",
          "name": "stdout",
          "text": [
            "Requirement already satisfied: torch in /usr/local/lib/python3.10/dist-packages (2.3.0+cu121)\n",
            "Requirement already satisfied: torchvision in /usr/local/lib/python3.10/dist-packages (0.18.0+cu121)\n",
            "Requirement already satisfied: filelock in /usr/local/lib/python3.10/dist-packages (from torch) (3.15.1)\n",
            "Requirement already satisfied: typing-extensions>=4.8.0 in /usr/local/lib/python3.10/dist-packages (from torch) (4.12.2)\n",
            "Requirement already satisfied: sympy in /usr/local/lib/python3.10/dist-packages (from torch) (1.12.1)\n",
            "Requirement already satisfied: networkx in /usr/local/lib/python3.10/dist-packages (from torch) (3.3)\n",
            "Requirement already satisfied: jinja2 in /usr/local/lib/python3.10/dist-packages (from torch) (3.1.4)\n",
            "Requirement already satisfied: fsspec in /usr/local/lib/python3.10/dist-packages (from torch) (2023.6.0)\n",
            "Requirement already satisfied: nvidia-cuda-nvrtc-cu12==12.1.105 in /usr/local/lib/python3.10/dist-packages (from torch) (12.1.105)\n",
            "Requirement already satisfied: nvidia-cuda-runtime-cu12==12.1.105 in /usr/local/lib/python3.10/dist-packages (from torch) (12.1.105)\n",
            "Requirement already satisfied: nvidia-cuda-cupti-cu12==12.1.105 in /usr/local/lib/python3.10/dist-packages (from torch) (12.1.105)\n",
            "Requirement already satisfied: nvidia-cudnn-cu12==8.9.2.26 in /usr/local/lib/python3.10/dist-packages (from torch) (8.9.2.26)\n",
            "Requirement already satisfied: nvidia-cublas-cu12==12.1.3.1 in /usr/local/lib/python3.10/dist-packages (from torch) (12.1.3.1)\n",
            "Requirement already satisfied: nvidia-cufft-cu12==11.0.2.54 in /usr/local/lib/python3.10/dist-packages (from torch) (11.0.2.54)\n",
            "Requirement already satisfied: nvidia-curand-cu12==10.3.2.106 in /usr/local/lib/python3.10/dist-packages (from torch) (10.3.2.106)\n",
            "Requirement already satisfied: nvidia-cusolver-cu12==11.4.5.107 in /usr/local/lib/python3.10/dist-packages (from torch) (11.4.5.107)\n",
            "Requirement already satisfied: nvidia-cusparse-cu12==12.1.0.106 in /usr/local/lib/python3.10/dist-packages (from torch) (12.1.0.106)\n",
            "Requirement already satisfied: nvidia-nccl-cu12==2.20.5 in /usr/local/lib/python3.10/dist-packages (from torch) (2.20.5)\n",
            "Requirement already satisfied: nvidia-nvtx-cu12==12.1.105 in /usr/local/lib/python3.10/dist-packages (from torch) (12.1.105)\n",
            "Requirement already satisfied: triton==2.3.0 in /usr/local/lib/python3.10/dist-packages (from torch) (2.3.0)\n",
            "Requirement already satisfied: nvidia-nvjitlink-cu12 in /usr/local/lib/python3.10/dist-packages (from nvidia-cusolver-cu12==11.4.5.107->torch) (12.5.40)\n",
            "Requirement already satisfied: numpy in /usr/local/lib/python3.10/dist-packages (from torchvision) (1.25.2)\n",
            "Requirement already satisfied: pillow!=8.3.*,>=5.3.0 in /usr/local/lib/python3.10/dist-packages (from torchvision) (9.4.0)\n",
            "Requirement already satisfied: MarkupSafe>=2.0 in /usr/local/lib/python3.10/dist-packages (from jinja2->torch) (2.1.5)\n",
            "Requirement already satisfied: mpmath<1.4.0,>=1.1.0 in /usr/local/lib/python3.10/dist-packages (from sympy->torch) (1.3.0)\n",
            "Get:1 http://security.ubuntu.com/ubuntu jammy-security InRelease [129 kB]\n",
            "Hit:2 https://developer.download.nvidia.com/compute/cuda/repos/ubuntu2204/x86_64  InRelease\n",
            "Hit:3 http://archive.ubuntu.com/ubuntu jammy InRelease\n",
            "Get:4 http://archive.ubuntu.com/ubuntu jammy-updates InRelease [128 kB]\n",
            "Hit:5 https://ppa.launchpadcontent.net/c2d4u.team/c2d4u4.0+/ubuntu jammy InRelease\n",
            "Hit:6 https://cloud.r-project.org/bin/linux/ubuntu jammy-cran40/ InRelease\n",
            "Hit:7 https://ppa.launchpadcontent.net/deadsnakes/ppa/ubuntu jammy InRelease\n",
            "Hit:8 https://ppa.launchpadcontent.net/graphics-drivers/ppa/ubuntu jammy InRelease\n",
            "Hit:9 https://ppa.launchpadcontent.net/ubuntugis/ppa/ubuntu jammy InRelease\n",
            "Hit:10 http://archive.ubuntu.com/ubuntu jammy-backports InRelease\n",
            "Get:11 http://archive.ubuntu.com/ubuntu jammy-updates/universe amd64 Packages [1,392 kB]\n",
            "Fetched 1,649 kB in 2s (880 kB/s)\n",
            "Reading package lists... Done\n",
            "Building dependency tree... Done\n",
            "Reading state information... Done\n",
            "45 packages can be upgraded. Run 'apt list --upgradable' to see them.\n",
            "Reading package lists... Done\n",
            "Building dependency tree... Done\n",
            "Reading state information... Done\n",
            "ffmpeg is already the newest version (7:4.4.2-0ubuntu0.22.04.1).\n",
            "0 upgraded, 0 newly installed, 0 to remove and 45 not upgraded.\n",
            "Requirement already satisfied: av in /usr/local/lib/python3.10/dist-packages (12.1.0)\n"
          ]
        }
      ]
    },
    {
      "cell_type": "code",
      "source": [
        "\"\"\" BEGIN CODE FROM https://raw.githubusercontent.com/Human-Augment-Analytics/CichlidBowerTracking/master/cichlid_bower_tracking/data_distillation/data/video_clipper.py\"\"\"\n",
        "\n",
        "from typing import List\n",
        "import math, os\n",
        "from torchvision.io import read_video, write_video\n",
        "import torch\n",
        "\n",
        "class VideoClipper:\n",
        "    def __init__(self, video_index: int, video_file: str, clips_dir: str, fps=30, fpc=300, debug=False):\n",
        "        '''\n",
        "        Initializes an instance of the VideoClipper class.\n",
        "\n",
        "        Inputs:\n",
        "            video_index: an int indicating the index of the video in a given project.\n",
        "            video_file: the string local filepath to the video to be split up.\n",
        "            clips_dir: the string local path to the directory where the clips will be stored.\n",
        "            fps: an int indicating the framerate of the passed video (and therefore the clips); defaults to 30.\n",
        "            fpc: an int indicating the number of \"frames per clip\"; defaults to 300, or 10 seconds (assuming fps=30).\n",
        "        '''\n",
        "\n",
        "        self.video_index = video_index\n",
        "        self.video_file = video_file\n",
        "\n",
        "        self.clips_dir = clips_dir\n",
        "        self.fpc = fpc\n",
        "        self.fps = fps\n",
        "\n",
        "        self.debug = debug\n",
        "\n",
        "        self.clip_count = 0\n",
        "\n",
        "    def _save_clip(self, clip: torch.Tensor) -> None:\n",
        "        '''\n",
        "        Saves the passed stack of frames as a clip to the local file system.\n",
        "\n",
        "        Inputs:\n",
        "            clip: a Tensor containing frames from the passed video.\n",
        "        '''\n",
        "\n",
        "        filename = f'{str(self.clip_count + 1).zfill(9)}.mp4'\n",
        "        filename = os.path.join(self.clips_dir, filename)\n",
        "\n",
        "        video_codec = 'h264'\n",
        "\n",
        "        if self.debug:\n",
        "            print(f'\\t...writing clip {filename}')\n",
        "\n",
        "        write_video(filename, clip, self.fps, video_codec=video_codec)\n",
        "\n",
        "    def run(self) -> None:\n",
        "        '''\n",
        "        Runs the VideoClipper on the passed video file.\n",
        "\n",
        "        Inputs: None.\n",
        "        '''\n",
        "\n",
        "        prev = None\n",
        "        start_idx = 0.0\n",
        "        spc = self.fpc / self.fps\n",
        "\n",
        "        clip = torch.randn(2)\n",
        "\n",
        "        while torch.numel(clip) > 0:\n",
        "            clip = read_video(filename=self.video_file, start_pts=start_idx, end_pts=start_idx + spc - (1/self.fps), pts_unit='sec', output_format='THWC')[0]\n",
        "\n",
        "            if clip.shape[0] == 1:\n",
        "                if prev is None:\n",
        "                    prev = clip\n",
        "                elif prev is not None and torch.equal(prev, clip):\n",
        "                    break\n",
        "\n",
        "            self._save_clip(clip=clip)\n",
        "            self.clip_count += 1\n",
        "            start_idx += spc\n",
        "\n",
        "\"\"\" END CODE FROM https://raw.githubusercontent.com/Human-Augment-Analytics/CichlidBowerTracking/master/cichlid_bower_tracking/data_distillation/data/video_clipper.py\"\"\""
      ],
      "metadata": {
        "id": "Hdmg43nGkrU9"
      },
      "execution_count": 5,
      "outputs": []
    },
    {
      "cell_type": "code",
      "source": [
        "# Initialize and run the VideoClipper\n",
        "clipper = VideoClipper(video_index=1, video_file=video_file, clips_dir=clips_dir, fps=30, fpc=300, debug=True)\n",
        "clipper.run()"
      ],
      "metadata": {
        "colab": {
          "base_uri": "https://localhost:8080/"
        },
        "id": "AOMAht0ikw-q",
        "outputId": "cf894b61-bd9c-4b88-f6f7-0a7ac269dfb6"
      },
      "execution_count": 6,
      "outputs": [
        {
          "output_type": "stream",
          "name": "stdout",
          "text": [
            "\t...writing clip /content/drive/MyDrive/OMSCS/Cichlids/clipped_clips/000000001.mp4\n",
            "\t...writing clip /content/drive/MyDrive/OMSCS/Cichlids/clipped_clips/000000002.mp4\n",
            "\t...writing clip /content/drive/MyDrive/OMSCS/Cichlids/clipped_clips/000000003.mp4\n",
            "\t...writing clip /content/drive/MyDrive/OMSCS/Cichlids/clipped_clips/000000004.mp4\n",
            "\t...writing clip /content/drive/MyDrive/OMSCS/Cichlids/clipped_clips/000000005.mp4\n",
            "\t...writing clip /content/drive/MyDrive/OMSCS/Cichlids/clipped_clips/000000006.mp4\n",
            "\t...writing clip /content/drive/MyDrive/OMSCS/Cichlids/clipped_clips/000000007.mp4\n",
            "\t...writing clip /content/drive/MyDrive/OMSCS/Cichlids/clipped_clips/000000008.mp4\n",
            "\t...writing clip /content/drive/MyDrive/OMSCS/Cichlids/clipped_clips/000000009.mp4\n",
            "\t...writing clip /content/drive/MyDrive/OMSCS/Cichlids/clipped_clips/000000010.mp4\n",
            "\t...writing clip /content/drive/MyDrive/OMSCS/Cichlids/clipped_clips/000000011.mp4\n",
            "\t...writing clip /content/drive/MyDrive/OMSCS/Cichlids/clipped_clips/000000012.mp4\n",
            "\t...writing clip /content/drive/MyDrive/OMSCS/Cichlids/clipped_clips/000000013.mp4\n",
            "\t...writing clip /content/drive/MyDrive/OMSCS/Cichlids/clipped_clips/000000014.mp4\n",
            "\t...writing clip /content/drive/MyDrive/OMSCS/Cichlids/clipped_clips/000000015.mp4\n",
            "\t...writing clip /content/drive/MyDrive/OMSCS/Cichlids/clipped_clips/000000016.mp4\n",
            "\t...writing clip /content/drive/MyDrive/OMSCS/Cichlids/clipped_clips/000000017.mp4\n",
            "\t...writing clip /content/drive/MyDrive/OMSCS/Cichlids/clipped_clips/000000018.mp4\n",
            "\t...writing clip /content/drive/MyDrive/OMSCS/Cichlids/clipped_clips/000000019.mp4\n",
            "\t...writing clip /content/drive/MyDrive/OMSCS/Cichlids/clipped_clips/000000020.mp4\n",
            "\t...writing clip /content/drive/MyDrive/OMSCS/Cichlids/clipped_clips/000000021.mp4\n",
            "\t...writing clip /content/drive/MyDrive/OMSCS/Cichlids/clipped_clips/000000022.mp4\n",
            "\t...writing clip /content/drive/MyDrive/OMSCS/Cichlids/clipped_clips/000000023.mp4\n",
            "\t...writing clip /content/drive/MyDrive/OMSCS/Cichlids/clipped_clips/000000024.mp4\n",
            "\t...writing clip /content/drive/MyDrive/OMSCS/Cichlids/clipped_clips/000000025.mp4\n",
            "\t...writing clip /content/drive/MyDrive/OMSCS/Cichlids/clipped_clips/000000026.mp4\n",
            "\t...writing clip /content/drive/MyDrive/OMSCS/Cichlids/clipped_clips/000000027.mp4\n",
            "\t...writing clip /content/drive/MyDrive/OMSCS/Cichlids/clipped_clips/000000028.mp4\n",
            "\t...writing clip /content/drive/MyDrive/OMSCS/Cichlids/clipped_clips/000000029.mp4\n",
            "\t...writing clip /content/drive/MyDrive/OMSCS/Cichlids/clipped_clips/000000030.mp4\n",
            "\t...writing clip /content/drive/MyDrive/OMSCS/Cichlids/clipped_clips/000000031.mp4\n",
            "\t...writing clip /content/drive/MyDrive/OMSCS/Cichlids/clipped_clips/000000032.mp4\n",
            "\t...writing clip /content/drive/MyDrive/OMSCS/Cichlids/clipped_clips/000000033.mp4\n",
            "\t...writing clip /content/drive/MyDrive/OMSCS/Cichlids/clipped_clips/000000034.mp4\n",
            "\t...writing clip /content/drive/MyDrive/OMSCS/Cichlids/clipped_clips/000000035.mp4\n",
            "\t...writing clip /content/drive/MyDrive/OMSCS/Cichlids/clipped_clips/000000036.mp4\n",
            "\t...writing clip /content/drive/MyDrive/OMSCS/Cichlids/clipped_clips/000000037.mp4\n",
            "\t...writing clip /content/drive/MyDrive/OMSCS/Cichlids/clipped_clips/000000038.mp4\n",
            "\t...writing clip /content/drive/MyDrive/OMSCS/Cichlids/clipped_clips/000000039.mp4\n",
            "\t...writing clip /content/drive/MyDrive/OMSCS/Cichlids/clipped_clips/000000040.mp4\n",
            "\t...writing clip /content/drive/MyDrive/OMSCS/Cichlids/clipped_clips/000000041.mp4\n",
            "\t...writing clip /content/drive/MyDrive/OMSCS/Cichlids/clipped_clips/000000042.mp4\n",
            "\t...writing clip /content/drive/MyDrive/OMSCS/Cichlids/clipped_clips/000000043.mp4\n",
            "\t...writing clip /content/drive/MyDrive/OMSCS/Cichlids/clipped_clips/000000044.mp4\n",
            "\t...writing clip /content/drive/MyDrive/OMSCS/Cichlids/clipped_clips/000000045.mp4\n",
            "\t...writing clip /content/drive/MyDrive/OMSCS/Cichlids/clipped_clips/000000046.mp4\n",
            "\t...writing clip /content/drive/MyDrive/OMSCS/Cichlids/clipped_clips/000000047.mp4\n",
            "\t...writing clip /content/drive/MyDrive/OMSCS/Cichlids/clipped_clips/000000048.mp4\n",
            "\t...writing clip /content/drive/MyDrive/OMSCS/Cichlids/clipped_clips/000000049.mp4\n",
            "\t...writing clip /content/drive/MyDrive/OMSCS/Cichlids/clipped_clips/000000050.mp4\n",
            "\t...writing clip /content/drive/MyDrive/OMSCS/Cichlids/clipped_clips/000000051.mp4\n",
            "\t...writing clip /content/drive/MyDrive/OMSCS/Cichlids/clipped_clips/000000052.mp4\n",
            "\t...writing clip /content/drive/MyDrive/OMSCS/Cichlids/clipped_clips/000000053.mp4\n",
            "\t...writing clip /content/drive/MyDrive/OMSCS/Cichlids/clipped_clips/000000054.mp4\n",
            "\t...writing clip /content/drive/MyDrive/OMSCS/Cichlids/clipped_clips/000000055.mp4\n",
            "\t...writing clip /content/drive/MyDrive/OMSCS/Cichlids/clipped_clips/000000056.mp4\n",
            "\t...writing clip /content/drive/MyDrive/OMSCS/Cichlids/clipped_clips/000000057.mp4\n",
            "\t...writing clip /content/drive/MyDrive/OMSCS/Cichlids/clipped_clips/000000058.mp4\n",
            "\t...writing clip /content/drive/MyDrive/OMSCS/Cichlids/clipped_clips/000000059.mp4\n",
            "\t...writing clip /content/drive/MyDrive/OMSCS/Cichlids/clipped_clips/000000060.mp4\n",
            "\t...writing clip /content/drive/MyDrive/OMSCS/Cichlids/clipped_clips/000000061.mp4\n",
            "\t...writing clip /content/drive/MyDrive/OMSCS/Cichlids/clipped_clips/000000062.mp4\n",
            "\t...writing clip /content/drive/MyDrive/OMSCS/Cichlids/clipped_clips/000000063.mp4\n",
            "\t...writing clip /content/drive/MyDrive/OMSCS/Cichlids/clipped_clips/000000064.mp4\n",
            "\t...writing clip /content/drive/MyDrive/OMSCS/Cichlids/clipped_clips/000000065.mp4\n",
            "\t...writing clip /content/drive/MyDrive/OMSCS/Cichlids/clipped_clips/000000066.mp4\n",
            "\t...writing clip /content/drive/MyDrive/OMSCS/Cichlids/clipped_clips/000000067.mp4\n",
            "\t...writing clip /content/drive/MyDrive/OMSCS/Cichlids/clipped_clips/000000068.mp4\n",
            "\t...writing clip /content/drive/MyDrive/OMSCS/Cichlids/clipped_clips/000000069.mp4\n",
            "\t...writing clip /content/drive/MyDrive/OMSCS/Cichlids/clipped_clips/000000070.mp4\n",
            "\t...writing clip /content/drive/MyDrive/OMSCS/Cichlids/clipped_clips/000000071.mp4\n",
            "\t...writing clip /content/drive/MyDrive/OMSCS/Cichlids/clipped_clips/000000072.mp4\n",
            "\t...writing clip /content/drive/MyDrive/OMSCS/Cichlids/clipped_clips/000000073.mp4\n",
            "\t...writing clip /content/drive/MyDrive/OMSCS/Cichlids/clipped_clips/000000074.mp4\n",
            "\t...writing clip /content/drive/MyDrive/OMSCS/Cichlids/clipped_clips/000000075.mp4\n",
            "\t...writing clip /content/drive/MyDrive/OMSCS/Cichlids/clipped_clips/000000076.mp4\n",
            "\t...writing clip /content/drive/MyDrive/OMSCS/Cichlids/clipped_clips/000000077.mp4\n",
            "\t...writing clip /content/drive/MyDrive/OMSCS/Cichlids/clipped_clips/000000078.mp4\n",
            "\t...writing clip /content/drive/MyDrive/OMSCS/Cichlids/clipped_clips/000000079.mp4\n",
            "\t...writing clip /content/drive/MyDrive/OMSCS/Cichlids/clipped_clips/000000080.mp4\n",
            "\t...writing clip /content/drive/MyDrive/OMSCS/Cichlids/clipped_clips/000000081.mp4\n",
            "\t...writing clip /content/drive/MyDrive/OMSCS/Cichlids/clipped_clips/000000082.mp4\n",
            "\t...writing clip /content/drive/MyDrive/OMSCS/Cichlids/clipped_clips/000000083.mp4\n",
            "\t...writing clip /content/drive/MyDrive/OMSCS/Cichlids/clipped_clips/000000084.mp4\n",
            "\t...writing clip /content/drive/MyDrive/OMSCS/Cichlids/clipped_clips/000000085.mp4\n",
            "\t...writing clip /content/drive/MyDrive/OMSCS/Cichlids/clipped_clips/000000086.mp4\n",
            "\t...writing clip /content/drive/MyDrive/OMSCS/Cichlids/clipped_clips/000000087.mp4\n",
            "\t...writing clip /content/drive/MyDrive/OMSCS/Cichlids/clipped_clips/000000088.mp4\n",
            "\t...writing clip /content/drive/MyDrive/OMSCS/Cichlids/clipped_clips/000000089.mp4\n",
            "\t...writing clip /content/drive/MyDrive/OMSCS/Cichlids/clipped_clips/000000090.mp4\n",
            "\t...writing clip /content/drive/MyDrive/OMSCS/Cichlids/clipped_clips/000000091.mp4\n",
            "\t...writing clip /content/drive/MyDrive/OMSCS/Cichlids/clipped_clips/000000092.mp4\n",
            "\t...writing clip /content/drive/MyDrive/OMSCS/Cichlids/clipped_clips/000000093.mp4\n"
          ]
        }
      ]
    },
    {
      "cell_type": "code",
      "source": [
        "# Go through each of the 10 s clips one-by-one, and run the HMM logic on it\n",
        "\n",
        "# ...enter code!"
      ],
      "metadata": {
        "id": "Frvq0HZ1rI0R"
      },
      "execution_count": null,
      "outputs": []
    },
    {
      "cell_type": "code",
      "source": [
        "# Step 1: Reads the video and stores each frame in a list.\n",
        "\n",
        "import cv2\n",
        "\n",
        "def extract_frames(video_path):\n",
        "    cap = cv2.VideoCapture(video_path)\n",
        "    frames = []\n",
        "    while cap.isOpened():\n",
        "        ret, frame = cap.read()\n",
        "        if not ret:\n",
        "            break\n",
        "        frames.append(frame)\n",
        "    cap.release()\n",
        "    return frames"
      ],
      "metadata": {
        "id": "F4IJ7nCHrSjg"
      },
      "execution_count": 19,
      "outputs": []
    },
    {
      "cell_type": "code",
      "source": [
        "# Step 2: Compute the absolute difference between consecutive frames\n",
        "\n",
        "def calculate_pixel_differences(frames):\n",
        "    differences = []\n",
        "    for i in range(1, len(frames)):\n",
        "        diff = cv2.absdiff(frames[i], frames[i-1])\n",
        "        differences.append(diff)\n",
        "    return differences"
      ],
      "metadata": {
        "id": "j_bQmPf2r4-_"
      },
      "execution_count": 20,
      "outputs": []
    },
    {
      "cell_type": "code",
      "source": [
        "# Step 3: Extract features from the pixel differences.\n",
        "# The sum of differences is used as a simple feature.\n",
        "\n",
        "import numpy as np\n",
        "\n",
        "def extract_features(differences):\n",
        "    features = []\n",
        "    for diff in differences:\n",
        "        # Example feature: sum of pixel differences\n",
        "        feature = np.sum(diff)\n",
        "        features.append(feature)\n",
        "    return np.array(features).reshape(-1, 1)"
      ],
      "metadata": {
        "id": "OwKUQzmosQVt"
      },
      "execution_count": 21,
      "outputs": []
    },
    {
      "cell_type": "code",
      "source": [
        "!pip install hmmlearn"
      ],
      "metadata": {
        "colab": {
          "base_uri": "https://localhost:8080/"
        },
        "id": "KI7FDOYCtK6q",
        "outputId": "9e0e27b7-9bcc-4247-fb3d-23c7e8fd2cc9"
      },
      "execution_count": 12,
      "outputs": [
        {
          "output_type": "stream",
          "name": "stdout",
          "text": [
            "Collecting hmmlearn\n",
            "  Downloading hmmlearn-0.3.2-cp310-cp310-manylinux_2_17_x86_64.manylinux2014_x86_64.whl (161 kB)\n",
            "\u001b[2K     \u001b[90m━━━━━━━━━━━━━━━━━━━━━━━━━━━━━━━━━━━━━━━━\u001b[0m \u001b[32m161.1/161.1 kB\u001b[0m \u001b[31m1.5 MB/s\u001b[0m eta \u001b[36m0:00:00\u001b[0m\n",
            "\u001b[?25hRequirement already satisfied: numpy>=1.10 in /usr/local/lib/python3.10/dist-packages (from hmmlearn) (1.25.2)\n",
            "Requirement already satisfied: scikit-learn!=0.22.0,>=0.16 in /usr/local/lib/python3.10/dist-packages (from hmmlearn) (1.2.2)\n",
            "Requirement already satisfied: scipy>=0.19 in /usr/local/lib/python3.10/dist-packages (from hmmlearn) (1.11.4)\n",
            "Requirement already satisfied: joblib>=1.1.1 in /usr/local/lib/python3.10/dist-packages (from scikit-learn!=0.22.0,>=0.16->hmmlearn) (1.4.2)\n",
            "Requirement already satisfied: threadpoolctl>=2.0.0 in /usr/local/lib/python3.10/dist-packages (from scikit-learn!=0.22.0,>=0.16->hmmlearn) (3.5.0)\n",
            "Installing collected packages: hmmlearn\n",
            "Successfully installed hmmlearn-0.3.2\n"
          ]
        }
      ]
    },
    {
      "cell_type": "code",
      "source": [
        "# Step 4: Trains a Gaussian HMM on the extracted features\n",
        "\n",
        "from hmmlearn import hmm\n",
        "\n",
        "def train_hmm(features):\n",
        "    model = hmm.GaussianHMM(n_components=2, covariance_type=\"diag\", n_iter=1000)\n",
        "    model.fit(features)\n",
        "    states = model.predict(features)\n",
        "    return states"
      ],
      "metadata": {
        "id": "1sfoDUgisSoj"
      },
      "execution_count": 22,
      "outputs": []
    },
    {
      "cell_type": "code",
      "source": [
        "# Step 5: Identifies frames where the HMM state indicates a significant change\n",
        "\n",
        "def detect_significant_changes(states):\n",
        "    significant_changes = np.where(states == 1)[0]\n",
        "    return significant_changes"
      ],
      "metadata": {
        "id": "xm0h0BzasU4u"
      },
      "execution_count": 23,
      "outputs": []
    },
    {
      "cell_type": "code",
      "source": [
        "# Step 6: Run the main function\n",
        "\n",
        "def main(video_path):\n",
        "    frames = extract_frames(video_path)\n",
        "    pixel_differences = calculate_pixel_differences(frames)\n",
        "    features = extract_features(pixel_differences)\n",
        "    states = train_hmm(features)\n",
        "    significant_changes = detect_significant_changes(states)\n",
        "    return significant_changes"
      ],
      "metadata": {
        "id": "IkaOPbGesbep"
      },
      "execution_count": 27,
      "outputs": []
    },
    {
      "cell_type": "code",
      "source": [
        "# Directory containing the clips\n",
        "clips_dir = \"/content/drive/MyDrive/OMSCS/Cichlids/clipped_clips\"\n",
        "\n",
        "# Process each clip\n",
        "for i in range(1, 93):\n",
        "    clip_number = str(i).zfill(9)\n",
        "    video_path = os.path.join(clips_dir, f\"{clip_number}.mp4\")\n",
        "    if os.path.exists(video_path):\n",
        "        significant_changes = main(video_path)\n",
        "        print(f\"Number of significant changes at clip {i}: {len(significant_changes)}\")\n",
        "    else:\n",
        "        print(f\"Clip {i} does not exist.\")"
      ],
      "metadata": {
        "colab": {
          "base_uri": "https://localhost:8080/"
        },
        "id": "xVQlhXDjvpyG",
        "outputId": "4c8c945d-7e2f-452b-c534-74ad6a15930b"
      },
      "execution_count": 30,
      "outputs": [
        {
          "output_type": "stream",
          "name": "stdout",
          "text": [
            "Number of significant changes at clip 1: 1\n",
            "Number of significant changes at clip 2: 1\n",
            "Number of significant changes at clip 3: 1\n",
            "Number of significant changes at clip 4: 1\n",
            "Number of significant changes at clip 5: 1\n",
            "Number of significant changes at clip 6: 1\n",
            "Number of significant changes at clip 7: 1\n",
            "Number of significant changes at clip 8: 1\n",
            "Number of significant changes at clip 9: 1\n",
            "Number of significant changes at clip 10: 1\n",
            "Number of significant changes at clip 11: 1\n",
            "Number of significant changes at clip 12: 1\n",
            "Number of significant changes at clip 13: 1\n",
            "Number of significant changes at clip 14: 298\n",
            "Number of significant changes at clip 15: 1\n",
            "Number of significant changes at clip 16: 1\n",
            "Number of significant changes at clip 17: 1\n",
            "Number of significant changes at clip 18: 1\n",
            "Number of significant changes at clip 19: 1\n",
            "Number of significant changes at clip 20: 1\n",
            "Number of significant changes at clip 21: 1\n",
            "Number of significant changes at clip 22: 1\n",
            "Number of significant changes at clip 23: 1\n",
            "Number of significant changes at clip 24: 1\n",
            "Number of significant changes at clip 25: 1\n",
            "Number of significant changes at clip 26: 1\n",
            "Number of significant changes at clip 27: 1\n",
            "Number of significant changes at clip 28: 1\n",
            "Number of significant changes at clip 29: 1\n",
            "Number of significant changes at clip 30: 1\n",
            "Number of significant changes at clip 31: 1\n",
            "Number of significant changes at clip 32: 1\n",
            "Number of significant changes at clip 33: 1\n",
            "Number of significant changes at clip 34: 1\n",
            "Number of significant changes at clip 35: 1\n",
            "Number of significant changes at clip 36: 1\n",
            "Number of significant changes at clip 37: 1\n",
            "Number of significant changes at clip 38: 1\n",
            "Number of significant changes at clip 39: 1\n",
            "Number of significant changes at clip 40: 1\n",
            "Number of significant changes at clip 41: 1\n",
            "Number of significant changes at clip 42: 1\n",
            "Number of significant changes at clip 43: 1\n",
            "Number of significant changes at clip 44: 1\n",
            "Number of significant changes at clip 45: 1\n",
            "Number of significant changes at clip 46: 1\n",
            "Number of significant changes at clip 47: 1\n",
            "Number of significant changes at clip 48: 1\n",
            "Number of significant changes at clip 49: 1\n",
            "Number of significant changes at clip 50: 1\n",
            "Number of significant changes at clip 51: 1\n",
            "Number of significant changes at clip 52: 1\n",
            "Number of significant changes at clip 53: 1\n",
            "Number of significant changes at clip 54: 1\n",
            "Number of significant changes at clip 55: 1\n",
            "Number of significant changes at clip 56: 1\n",
            "Number of significant changes at clip 57: 1\n",
            "Number of significant changes at clip 58: 1\n",
            "Number of significant changes at clip 59: 1\n",
            "Number of significant changes at clip 60: 1\n",
            "Number of significant changes at clip 61: 1\n",
            "Number of significant changes at clip 62: 1\n",
            "Number of significant changes at clip 63: 1\n",
            "Number of significant changes at clip 64: 1\n",
            "Number of significant changes at clip 65: 1\n",
            "Number of significant changes at clip 66: 1\n",
            "Number of significant changes at clip 67: 1\n",
            "Number of significant changes at clip 68: 1\n",
            "Number of significant changes at clip 69: 1\n",
            "Number of significant changes at clip 70: 1\n",
            "Number of significant changes at clip 71: 1\n",
            "Number of significant changes at clip 72: 1\n",
            "Number of significant changes at clip 73: 1\n",
            "Number of significant changes at clip 74: 1\n",
            "Number of significant changes at clip 75: 1\n",
            "Number of significant changes at clip 76: 1\n",
            "Number of significant changes at clip 77: 1\n",
            "Number of significant changes at clip 78: 1\n",
            "Number of significant changes at clip 79: 1\n",
            "Number of significant changes at clip 80: 1\n",
            "Number of significant changes at clip 81: 1\n",
            "Number of significant changes at clip 82: 1\n",
            "Number of significant changes at clip 83: 1\n",
            "Number of significant changes at clip 84: 1\n",
            "Number of significant changes at clip 85: 1\n",
            "Number of significant changes at clip 86: 1\n",
            "Number of significant changes at clip 87: 1\n",
            "Number of significant changes at clip 88: 1\n",
            "Number of significant changes at clip 89: 1\n",
            "Number of significant changes at clip 90: 1\n",
            "Number of significant changes at clip 91: 1\n",
            "Number of significant changes at clip 92: 67\n"
          ]
        }
      ]
    }
  ]
}