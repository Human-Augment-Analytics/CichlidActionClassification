{
  "cells": [
    {
      "cell_type": "markdown",
      "metadata": {
        "id": "ycB-HSrqdsGJ"
      },
      "source": [
        "## HMM-based sand manipulation detection\n",
        "\n",
        "The 15-minute video has been split into 10-second chunks, stored in the `clipped_clips` folder. I plan to run a series of experiments on these shorter videos that involve the following steps:\n",
        "\n",
        "1. **Frame Extraction:** Extract frames from each 10-second video clip at a specified frame rate.\n",
        "\n",
        "2. **Feature Extraction and Noise Filtering:** Extract features from the frames using LBP, filter out noisy data, and interpolate noisy pixels.\n",
        "\n",
        "3. **Dimensionality Reduction:** Reduce the dimensionality of the extracted features using Principal Component Analysis (PCA).\n",
        "\n",
        "4. **Hidden Markov Model (HMM) Analysis:** Apply an HMM to predict states for each frame based on the reduced feature set.\n",
        "\n",
        "5. **DBSCAN Clustering:** Use DBSCAN clustering to analyze the predicted states and identify instances of sand manipulation that are distinct from fish movements.\n",
        "\n",
        "6. **Visualization and Heuristic Refinement:** Visualize the detected sand manipulation regions and refine the heuristics based on the results to improve accuracy.\n",
        "\n",
        "These experiments aim to accurately differentiate between sand manipulation events and fish movements, thereby improving the analysis of the video data."
      ]
    },
    {
      "cell_type": "markdown",
      "metadata": {
        "id": "R65Q4Id6NHIy"
      },
      "source": [
        "### Mount Google Drive and Install Required Packages\n",
        "\n",
        "The cells below mount Google Drive to access the files stored in it and install required packages, such as PyTorch, torchvision, ffmeg, av, and hmmlearn, which are necessary for subsequent code execution."
      ]
    },
    {
      "cell_type": "code",
      "execution_count": null,
      "metadata": {
        "colab": {
          "base_uri": "https://localhost:8080/"
        },
        "id": "KrLNZmzadig7",
        "outputId": "3c5d93fa-34bd-49df-e225-cc0c53f6573c"
      },
      "outputs": [
        {
          "name": "stdout",
          "output_type": "stream",
          "text": [
            "Mounted at /content/drive\n"
          ]
        }
      ],
      "source": [
        "# Mount Google Drive\n",
        "from google.colab import drive\n",
        "drive.mount('/content/drive')"
      ]
    },
    {
      "cell_type": "code",
      "execution_count": null,
      "metadata": {
        "colab": {
          "base_uri": "https://localhost:8080/"
        },
        "id": "jjEyP-AyhP0b",
        "outputId": "ed1b500a-0272-4b30-ac12-1ac475a7e804"
      },
      "outputs": [
        {
          "name": "stdout",
          "output_type": "stream",
          "text": [
            "Requirement already satisfied: torch in /usr/local/lib/python3.10/dist-packages (2.3.0+cu121)\n",
            "Requirement already satisfied: torchvision in /usr/local/lib/python3.10/dist-packages (0.18.0+cu121)\n",
            "Requirement already satisfied: filelock in /usr/local/lib/python3.10/dist-packages (from torch) (3.15.3)\n",
            "Requirement already satisfied: typing-extensions>=4.8.0 in /usr/local/lib/python3.10/dist-packages (from torch) (4.12.2)\n",
            "Requirement already satisfied: sympy in /usr/local/lib/python3.10/dist-packages (from torch) (1.12.1)\n",
            "Requirement already satisfied: networkx in /usr/local/lib/python3.10/dist-packages (from torch) (3.3)\n",
            "Requirement already satisfied: jinja2 in /usr/local/lib/python3.10/dist-packages (from torch) (3.1.4)\n",
            "Requirement already satisfied: fsspec in /usr/local/lib/python3.10/dist-packages (from torch) (2023.6.0)\n",
            "Collecting nvidia-cuda-nvrtc-cu12==12.1.105 (from torch)\n",
            "  Using cached nvidia_cuda_nvrtc_cu12-12.1.105-py3-none-manylinux1_x86_64.whl (23.7 MB)\n",
            "Collecting nvidia-cuda-runtime-cu12==12.1.105 (from torch)\n",
            "  Using cached nvidia_cuda_runtime_cu12-12.1.105-py3-none-manylinux1_x86_64.whl (823 kB)\n",
            "Collecting nvidia-cuda-cupti-cu12==12.1.105 (from torch)\n",
            "  Using cached nvidia_cuda_cupti_cu12-12.1.105-py3-none-manylinux1_x86_64.whl (14.1 MB)\n",
            "Collecting nvidia-cudnn-cu12==8.9.2.26 (from torch)\n",
            "  Using cached nvidia_cudnn_cu12-8.9.2.26-py3-none-manylinux1_x86_64.whl (731.7 MB)\n",
            "Collecting nvidia-cublas-cu12==12.1.3.1 (from torch)\n",
            "  Using cached nvidia_cublas_cu12-12.1.3.1-py3-none-manylinux1_x86_64.whl (410.6 MB)\n",
            "Collecting nvidia-cufft-cu12==11.0.2.54 (from torch)\n",
            "  Using cached nvidia_cufft_cu12-11.0.2.54-py3-none-manylinux1_x86_64.whl (121.6 MB)\n",
            "Collecting nvidia-curand-cu12==10.3.2.106 (from torch)\n",
            "  Using cached nvidia_curand_cu12-10.3.2.106-py3-none-manylinux1_x86_64.whl (56.5 MB)\n",
            "Collecting nvidia-cusolver-cu12==11.4.5.107 (from torch)\n",
            "  Using cached nvidia_cusolver_cu12-11.4.5.107-py3-none-manylinux1_x86_64.whl (124.2 MB)\n",
            "Collecting nvidia-cusparse-cu12==12.1.0.106 (from torch)\n",
            "  Using cached nvidia_cusparse_cu12-12.1.0.106-py3-none-manylinux1_x86_64.whl (196.0 MB)\n",
            "Collecting nvidia-nccl-cu12==2.20.5 (from torch)\n",
            "  Using cached nvidia_nccl_cu12-2.20.5-py3-none-manylinux2014_x86_64.whl (176.2 MB)\n",
            "Collecting nvidia-nvtx-cu12==12.1.105 (from torch)\n",
            "  Using cached nvidia_nvtx_cu12-12.1.105-py3-none-manylinux1_x86_64.whl (99 kB)\n",
            "Requirement already satisfied: triton==2.3.0 in /usr/local/lib/python3.10/dist-packages (from torch) (2.3.0)\n",
            "Collecting nvidia-nvjitlink-cu12 (from nvidia-cusolver-cu12==11.4.5.107->torch)\n",
            "  Downloading nvidia_nvjitlink_cu12-12.5.40-py3-none-manylinux2014_x86_64.whl (21.3 MB)\n",
            "\u001b[2K     \u001b[90m━━━━━━━━━━━━━━━━━━━━━━━━━━━━━━━━━━━━━━━━\u001b[0m \u001b[32m21.3/21.3 MB\u001b[0m \u001b[31m80.2 MB/s\u001b[0m eta \u001b[36m0:00:00\u001b[0m\n",
            "\u001b[?25hRequirement already satisfied: numpy in /usr/local/lib/python3.10/dist-packages (from torchvision) (1.25.2)\n",
            "Requirement already satisfied: pillow!=8.3.*,>=5.3.0 in /usr/local/lib/python3.10/dist-packages (from torchvision) (9.4.0)\n",
            "Requirement already satisfied: MarkupSafe>=2.0 in /usr/local/lib/python3.10/dist-packages (from jinja2->torch) (2.1.5)\n",
            "Requirement already satisfied: mpmath<1.4.0,>=1.1.0 in /usr/local/lib/python3.10/dist-packages (from sympy->torch) (1.3.0)\n",
            "Installing collected packages: nvidia-nvtx-cu12, nvidia-nvjitlink-cu12, nvidia-nccl-cu12, nvidia-curand-cu12, nvidia-cufft-cu12, nvidia-cuda-runtime-cu12, nvidia-cuda-nvrtc-cu12, nvidia-cuda-cupti-cu12, nvidia-cublas-cu12, nvidia-cusparse-cu12, nvidia-cudnn-cu12, nvidia-cusolver-cu12\n",
            "Successfully installed nvidia-cublas-cu12-12.1.3.1 nvidia-cuda-cupti-cu12-12.1.105 nvidia-cuda-nvrtc-cu12-12.1.105 nvidia-cuda-runtime-cu12-12.1.105 nvidia-cudnn-cu12-8.9.2.26 nvidia-cufft-cu12-11.0.2.54 nvidia-curand-cu12-10.3.2.106 nvidia-cusolver-cu12-11.4.5.107 nvidia-cusparse-cu12-12.1.0.106 nvidia-nccl-cu12-2.20.5 nvidia-nvjitlink-cu12-12.5.40 nvidia-nvtx-cu12-12.1.105\n",
            "Get:1 https://cloud.r-project.org/bin/linux/ubuntu jammy-cran40/ InRelease [3,626 B]\n",
            "Hit:2 https://developer.download.nvidia.com/compute/cuda/repos/ubuntu2204/x86_64  InRelease\n",
            "Hit:3 http://archive.ubuntu.com/ubuntu jammy InRelease\n",
            "Get:4 http://archive.ubuntu.com/ubuntu jammy-updates InRelease [128 kB]\n",
            "Get:5 http://security.ubuntu.com/ubuntu jammy-security InRelease [129 kB]\n",
            "Hit:6 https://ppa.launchpadcontent.net/c2d4u.team/c2d4u4.0+/ubuntu jammy InRelease\n",
            "Hit:7 https://ppa.launchpadcontent.net/deadsnakes/ppa/ubuntu jammy InRelease\n",
            "Hit:8 http://archive.ubuntu.com/ubuntu jammy-backports InRelease\n",
            "Hit:9 https://ppa.launchpadcontent.net/graphics-drivers/ppa/ubuntu jammy InRelease\n",
            "Get:10 http://archive.ubuntu.com/ubuntu jammy-updates/restricted amd64 Packages [2,632 kB]\n",
            "Hit:11 https://ppa.launchpadcontent.net/ubuntugis/ppa/ubuntu jammy InRelease\n",
            "Get:12 http://security.ubuntu.com/ubuntu jammy-security/universe amd64 Packages [1,112 kB]\n",
            "Get:13 http://archive.ubuntu.com/ubuntu jammy-updates/main amd64 Packages [2,233 kB]\n",
            "Get:14 http://archive.ubuntu.com/ubuntu jammy-updates/universe amd64 Packages [1,394 kB]\n",
            "Get:15 http://security.ubuntu.com/ubuntu jammy-security/main amd64 Packages [1,969 kB]\n",
            "Get:16 http://security.ubuntu.com/ubuntu jammy-security/restricted amd64 Packages [2,559 kB]\n",
            "Get:17 http://security.ubuntu.com/ubuntu jammy-security/multiverse amd64 Packages [44.7 kB]\n",
            "Fetched 12.2 MB in 4s (3,069 kB/s)\n",
            "Reading package lists... Done\n",
            "Building dependency tree... Done\n",
            "Reading state information... Done\n",
            "47 packages can be upgraded. Run 'apt list --upgradable' to see them.\n",
            "Reading package lists... Done\n",
            "Building dependency tree... Done\n",
            "Reading state information... Done\n",
            "ffmpeg is already the newest version (7:4.4.2-0ubuntu0.22.04.1).\n",
            "0 upgraded, 0 newly installed, 0 to remove and 47 not upgraded.\n",
            "Collecting av\n",
            "  Downloading av-12.1.0-cp310-cp310-manylinux_2_17_x86_64.manylinux2014_x86_64.whl (34.3 MB)\n",
            "\u001b[2K     \u001b[90m━━━━━━━━━━━━━━━━━━━━━━━━━━━━━━━━━━━━━━━━\u001b[0m \u001b[32m34.3/34.3 MB\u001b[0m \u001b[31m56.4 MB/s\u001b[0m eta \u001b[36m0:00:00\u001b[0m\n",
            "\u001b[?25hInstalling collected packages: av\n",
            "Successfully installed av-12.1.0\n",
            "Collecting hmmlearn\n",
            "  Downloading hmmlearn-0.3.2-cp310-cp310-manylinux_2_17_x86_64.manylinux2014_x86_64.whl (161 kB)\n",
            "\u001b[2K     \u001b[90m━━━━━━━━━━━━━━━━━━━━━━━━━━━━━━━━━━━━━━━━\u001b[0m \u001b[32m161.1/161.1 kB\u001b[0m \u001b[31m3.3 MB/s\u001b[0m eta \u001b[36m0:00:00\u001b[0m\n",
            "\u001b[?25hRequirement already satisfied: numpy>=1.10 in /usr/local/lib/python3.10/dist-packages (from hmmlearn) (1.25.2)\n",
            "Requirement already satisfied: scikit-learn!=0.22.0,>=0.16 in /usr/local/lib/python3.10/dist-packages (from hmmlearn) (1.2.2)\n",
            "Requirement already satisfied: scipy>=0.19 in /usr/local/lib/python3.10/dist-packages (from hmmlearn) (1.11.4)\n",
            "Requirement already satisfied: joblib>=1.1.1 in /usr/local/lib/python3.10/dist-packages (from scikit-learn!=0.22.0,>=0.16->hmmlearn) (1.4.2)\n",
            "Requirement already satisfied: threadpoolctl>=2.0.0 in /usr/local/lib/python3.10/dist-packages (from scikit-learn!=0.22.0,>=0.16->hmmlearn) (3.5.0)\n",
            "Installing collected packages: hmmlearn\n",
            "Successfully installed hmmlearn-0.3.2\n"
          ]
        }
      ],
      "source": [
        "!pip install torch torchvision\n",
        "!sudo apt update\n",
        "!sudo apt install ffmpeg\n",
        "!pip install av\n",
        "!pip install hmmlearn"
      ]
    },
    {
      "cell_type": "markdown",
      "metadata": {
        "id": "a6IpLU4vQW_K"
      },
      "source": [
        "### Define paths and create necessary directories\n",
        "\n",
        "This cell sets up the paths for the input video file, the output file, and the directory for storing video clips. It also creates the directory if it does not already exist."
      ]
    },
    {
      "cell_type": "code",
      "execution_count": null,
      "metadata": {
        "id": "K8yPTTAQLNAf"
      },
      "outputs": [],
      "source": [
        "import os\n",
        "\n",
        "# Define paths\n",
        "video_file = \"/content/drive/MyDrive/OMSCS/Cichlids/clipped_file_15mins.mp4\"\n",
        "output_file = \"/content/drive/MyDrive/OMSCS/Cichlids/clipped_clips/example.npy\"\n",
        "clips_dir = \"/content/drive/MyDrive/OMSCS/Cichlids/clipped_clips\"\n",
        "\n",
        "# Create the directory if it does not exist\n",
        "if not os.path.exists(clips_dir):\n",
        "    os.makedirs(clips_dir)"
      ]
    },
    {
      "cell_type": "markdown",
      "metadata": {
        "id": "Z-2KvfQ2QlFC"
      },
      "source": [
        "### Video Clipper Class Definition\n",
        "\n",
        "This section defines the VideoClipper class, which splits the input video into smaller clips. The class includes methods for initializing the video clipper, saving clips, and running the clipper to process the video."
      ]
    },
    {
      "cell_type": "code",
      "execution_count": null,
      "metadata": {
        "colab": {
          "base_uri": "https://localhost:8080/",
          "height": 52
        },
        "id": "MFIswJl_K6LI",
        "outputId": "05a1bc84-9c5c-4e6e-c9cc-5d97f9dcaed8"
      },
      "outputs": [
        {
          "data": {
            "application/vnd.google.colaboratory.intrinsic+json": {
              "type": "string"
            },
            "text/plain": [
              "' END CODE FROM https://raw.githubusercontent.com/Human-Augment-Analytics/CichlidBowerTracking/master/cichlid_bower_tracking/data_distillation/data/video_clipper.py'"
            ]
          },
          "execution_count": 4,
          "metadata": {},
          "output_type": "execute_result"
        }
      ],
      "source": [
        "\"\"\" BEGIN CODE FROM https://raw.githubusercontent.com/Human-Augment-Analytics/CichlidBowerTracking/master/cichlid_bower_tracking/data_distillation/data/video_clipper.py\"\"\"\n",
        "from typing import List\n",
        "import math, os\n",
        "from torchvision.io import read_video, write_video\n",
        "import torch\n",
        "\n",
        "class VideoClipper:\n",
        "    def __init__(self, video_index: int, video_file: str, clips_dir: str, fps=30, fpc=300, debug=False):\n",
        "        self.video_index = video_index\n",
        "        self.video_file = video_file\n",
        "        self.clips_dir = clips_dir\n",
        "        self.fpc = fpc\n",
        "        self.fps = fps\n",
        "        self.debug = debug\n",
        "        self.clip_count = 0\n",
        "\n",
        "    def _save_clip(self, clip: torch.Tensor) -> None:\n",
        "        filename = f'{str(self.clip_count + 1).zfill(9)}.mp4'\n",
        "        filename = os.path.join(self.clips_dir, filename)\n",
        "        video_codec = 'h264'\n",
        "        if self.debug:\n",
        "            print(f'\\t...writing clip {filename}')\n",
        "        write_video(filename, clip, self.fps, video_codec=video_codec)\n",
        "\n",
        "    def run(self) -> None:\n",
        "        prev = None\n",
        "        start_idx = 0.0\n",
        "        spc = self.fpc / self.fps\n",
        "        clip = torch.randn(2)\n",
        "        while torch.numel(clip) > 0:\n",
        "            clip = read_video(filename=self.video_file, start_pts=start_idx, end_pts=start_idx + spc - (1/self.fps), pts_unit='sec', output_format='THWC')[0]\n",
        "            if clip.shape[0] == 1:\n",
        "                if prev is None:\n",
        "                    prev = clip\n",
        "                elif prev is not None and torch.equal(prev, clip):\n",
        "                    break\n",
        "            self._save_clip(clip=clip)\n",
        "            self.clip_count += 1\n",
        "            start_idx += spc\n",
        "\"\"\" END CODE FROM https://raw.githubusercontent.com/Human-Augment-Analytics/CichlidBowerTracking/master/cichlid_bower_tracking/data_distillation/data/video_clipper.py\"\"\""
      ]
    },
    {
      "cell_type": "markdown",
      "metadata": {
        "id": "6jgpD8WEQ_Ax"
      },
      "source": [
        "### Initialize and Run the Video Clipper\n",
        "\n",
        "This cell creates an instance of the VideoClipper class and runs it to process the input video file."
      ]
    },
    {
      "cell_type": "code",
      "execution_count": null,
      "metadata": {
        "colab": {
          "base_uri": "https://localhost:8080/"
        },
        "id": "-rlir9jdLDt3",
        "outputId": "11fd6064-5c48-41ab-e9bc-6c90ad37b236"
      },
      "outputs": [
        {
          "name": "stdout",
          "output_type": "stream",
          "text": [
            "\t...writing clip /content/drive/MyDrive/OMSCS/Cichlids/clipped_clips/000000001.mp4\n",
            "\t...writing clip /content/drive/MyDrive/OMSCS/Cichlids/clipped_clips/000000002.mp4\n",
            "\t...writing clip /content/drive/MyDrive/OMSCS/Cichlids/clipped_clips/000000003.mp4\n",
            "\t...writing clip /content/drive/MyDrive/OMSCS/Cichlids/clipped_clips/000000004.mp4\n",
            "\t...writing clip /content/drive/MyDrive/OMSCS/Cichlids/clipped_clips/000000005.mp4\n",
            "\t...writing clip /content/drive/MyDrive/OMSCS/Cichlids/clipped_clips/000000006.mp4\n",
            "\t...writing clip /content/drive/MyDrive/OMSCS/Cichlids/clipped_clips/000000007.mp4\n",
            "\t...writing clip /content/drive/MyDrive/OMSCS/Cichlids/clipped_clips/000000008.mp4\n",
            "\t...writing clip /content/drive/MyDrive/OMSCS/Cichlids/clipped_clips/000000009.mp4\n",
            "\t...writing clip /content/drive/MyDrive/OMSCS/Cichlids/clipped_clips/000000010.mp4\n",
            "\t...writing clip /content/drive/MyDrive/OMSCS/Cichlids/clipped_clips/000000011.mp4\n",
            "\t...writing clip /content/drive/MyDrive/OMSCS/Cichlids/clipped_clips/000000012.mp4\n",
            "\t...writing clip /content/drive/MyDrive/OMSCS/Cichlids/clipped_clips/000000013.mp4\n",
            "\t...writing clip /content/drive/MyDrive/OMSCS/Cichlids/clipped_clips/000000014.mp4\n",
            "\t...writing clip /content/drive/MyDrive/OMSCS/Cichlids/clipped_clips/000000015.mp4\n",
            "\t...writing clip /content/drive/MyDrive/OMSCS/Cichlids/clipped_clips/000000016.mp4\n",
            "\t...writing clip /content/drive/MyDrive/OMSCS/Cichlids/clipped_clips/000000017.mp4\n",
            "\t...writing clip /content/drive/MyDrive/OMSCS/Cichlids/clipped_clips/000000018.mp4\n",
            "\t...writing clip /content/drive/MyDrive/OMSCS/Cichlids/clipped_clips/000000019.mp4\n",
            "\t...writing clip /content/drive/MyDrive/OMSCS/Cichlids/clipped_clips/000000020.mp4\n",
            "\t...writing clip /content/drive/MyDrive/OMSCS/Cichlids/clipped_clips/000000021.mp4\n",
            "\t...writing clip /content/drive/MyDrive/OMSCS/Cichlids/clipped_clips/000000022.mp4\n",
            "\t...writing clip /content/drive/MyDrive/OMSCS/Cichlids/clipped_clips/000000023.mp4\n",
            "\t...writing clip /content/drive/MyDrive/OMSCS/Cichlids/clipped_clips/000000024.mp4\n",
            "\t...writing clip /content/drive/MyDrive/OMSCS/Cichlids/clipped_clips/000000025.mp4\n",
            "\t...writing clip /content/drive/MyDrive/OMSCS/Cichlids/clipped_clips/000000026.mp4\n",
            "\t...writing clip /content/drive/MyDrive/OMSCS/Cichlids/clipped_clips/000000027.mp4\n",
            "\t...writing clip /content/drive/MyDrive/OMSCS/Cichlids/clipped_clips/000000028.mp4\n",
            "\t...writing clip /content/drive/MyDrive/OMSCS/Cichlids/clipped_clips/000000029.mp4\n",
            "\t...writing clip /content/drive/MyDrive/OMSCS/Cichlids/clipped_clips/000000030.mp4\n",
            "\t...writing clip /content/drive/MyDrive/OMSCS/Cichlids/clipped_clips/000000031.mp4\n",
            "\t...writing clip /content/drive/MyDrive/OMSCS/Cichlids/clipped_clips/000000032.mp4\n",
            "\t...writing clip /content/drive/MyDrive/OMSCS/Cichlids/clipped_clips/000000033.mp4\n",
            "\t...writing clip /content/drive/MyDrive/OMSCS/Cichlids/clipped_clips/000000034.mp4\n",
            "\t...writing clip /content/drive/MyDrive/OMSCS/Cichlids/clipped_clips/000000035.mp4\n",
            "\t...writing clip /content/drive/MyDrive/OMSCS/Cichlids/clipped_clips/000000036.mp4\n",
            "\t...writing clip /content/drive/MyDrive/OMSCS/Cichlids/clipped_clips/000000037.mp4\n",
            "\t...writing clip /content/drive/MyDrive/OMSCS/Cichlids/clipped_clips/000000038.mp4\n",
            "\t...writing clip /content/drive/MyDrive/OMSCS/Cichlids/clipped_clips/000000039.mp4\n",
            "\t...writing clip /content/drive/MyDrive/OMSCS/Cichlids/clipped_clips/000000040.mp4\n",
            "\t...writing clip /content/drive/MyDrive/OMSCS/Cichlids/clipped_clips/000000041.mp4\n",
            "\t...writing clip /content/drive/MyDrive/OMSCS/Cichlids/clipped_clips/000000042.mp4\n",
            "\t...writing clip /content/drive/MyDrive/OMSCS/Cichlids/clipped_clips/000000043.mp4\n",
            "\t...writing clip /content/drive/MyDrive/OMSCS/Cichlids/clipped_clips/000000044.mp4\n",
            "\t...writing clip /content/drive/MyDrive/OMSCS/Cichlids/clipped_clips/000000045.mp4\n",
            "\t...writing clip /content/drive/MyDrive/OMSCS/Cichlids/clipped_clips/000000046.mp4\n",
            "\t...writing clip /content/drive/MyDrive/OMSCS/Cichlids/clipped_clips/000000047.mp4\n",
            "\t...writing clip /content/drive/MyDrive/OMSCS/Cichlids/clipped_clips/000000048.mp4\n",
            "\t...writing clip /content/drive/MyDrive/OMSCS/Cichlids/clipped_clips/000000049.mp4\n",
            "\t...writing clip /content/drive/MyDrive/OMSCS/Cichlids/clipped_clips/000000050.mp4\n",
            "\t...writing clip /content/drive/MyDrive/OMSCS/Cichlids/clipped_clips/000000051.mp4\n",
            "\t...writing clip /content/drive/MyDrive/OMSCS/Cichlids/clipped_clips/000000052.mp4\n",
            "\t...writing clip /content/drive/MyDrive/OMSCS/Cichlids/clipped_clips/000000053.mp4\n",
            "\t...writing clip /content/drive/MyDrive/OMSCS/Cichlids/clipped_clips/000000054.mp4\n",
            "\t...writing clip /content/drive/MyDrive/OMSCS/Cichlids/clipped_clips/000000055.mp4\n",
            "\t...writing clip /content/drive/MyDrive/OMSCS/Cichlids/clipped_clips/000000056.mp4\n",
            "\t...writing clip /content/drive/MyDrive/OMSCS/Cichlids/clipped_clips/000000057.mp4\n",
            "\t...writing clip /content/drive/MyDrive/OMSCS/Cichlids/clipped_clips/000000058.mp4\n",
            "\t...writing clip /content/drive/MyDrive/OMSCS/Cichlids/clipped_clips/000000059.mp4\n",
            "\t...writing clip /content/drive/MyDrive/OMSCS/Cichlids/clipped_clips/000000060.mp4\n",
            "\t...writing clip /content/drive/MyDrive/OMSCS/Cichlids/clipped_clips/000000061.mp4\n",
            "\t...writing clip /content/drive/MyDrive/OMSCS/Cichlids/clipped_clips/000000062.mp4\n",
            "\t...writing clip /content/drive/MyDrive/OMSCS/Cichlids/clipped_clips/000000063.mp4\n",
            "\t...writing clip /content/drive/MyDrive/OMSCS/Cichlids/clipped_clips/000000064.mp4\n",
            "\t...writing clip /content/drive/MyDrive/OMSCS/Cichlids/clipped_clips/000000065.mp4\n",
            "\t...writing clip /content/drive/MyDrive/OMSCS/Cichlids/clipped_clips/000000066.mp4\n",
            "\t...writing clip /content/drive/MyDrive/OMSCS/Cichlids/clipped_clips/000000067.mp4\n",
            "\t...writing clip /content/drive/MyDrive/OMSCS/Cichlids/clipped_clips/000000068.mp4\n",
            "\t...writing clip /content/drive/MyDrive/OMSCS/Cichlids/clipped_clips/000000069.mp4\n",
            "\t...writing clip /content/drive/MyDrive/OMSCS/Cichlids/clipped_clips/000000070.mp4\n",
            "\t...writing clip /content/drive/MyDrive/OMSCS/Cichlids/clipped_clips/000000071.mp4\n",
            "\t...writing clip /content/drive/MyDrive/OMSCS/Cichlids/clipped_clips/000000072.mp4\n",
            "\t...writing clip /content/drive/MyDrive/OMSCS/Cichlids/clipped_clips/000000073.mp4\n",
            "\t...writing clip /content/drive/MyDrive/OMSCS/Cichlids/clipped_clips/000000074.mp4\n",
            "\t...writing clip /content/drive/MyDrive/OMSCS/Cichlids/clipped_clips/000000075.mp4\n",
            "\t...writing clip /content/drive/MyDrive/OMSCS/Cichlids/clipped_clips/000000076.mp4\n",
            "\t...writing clip /content/drive/MyDrive/OMSCS/Cichlids/clipped_clips/000000077.mp4\n",
            "\t...writing clip /content/drive/MyDrive/OMSCS/Cichlids/clipped_clips/000000078.mp4\n",
            "\t...writing clip /content/drive/MyDrive/OMSCS/Cichlids/clipped_clips/000000079.mp4\n",
            "\t...writing clip /content/drive/MyDrive/OMSCS/Cichlids/clipped_clips/000000080.mp4\n",
            "\t...writing clip /content/drive/MyDrive/OMSCS/Cichlids/clipped_clips/000000081.mp4\n",
            "\t...writing clip /content/drive/MyDrive/OMSCS/Cichlids/clipped_clips/000000082.mp4\n",
            "\t...writing clip /content/drive/MyDrive/OMSCS/Cichlids/clipped_clips/000000083.mp4\n",
            "\t...writing clip /content/drive/MyDrive/OMSCS/Cichlids/clipped_clips/000000084.mp4\n",
            "\t...writing clip /content/drive/MyDrive/OMSCS/Cichlids/clipped_clips/000000085.mp4\n",
            "\t...writing clip /content/drive/MyDrive/OMSCS/Cichlids/clipped_clips/000000086.mp4\n",
            "\t...writing clip /content/drive/MyDrive/OMSCS/Cichlids/clipped_clips/000000087.mp4\n",
            "\t...writing clip /content/drive/MyDrive/OMSCS/Cichlids/clipped_clips/000000088.mp4\n",
            "\t...writing clip /content/drive/MyDrive/OMSCS/Cichlids/clipped_clips/000000089.mp4\n",
            "\t...writing clip /content/drive/MyDrive/OMSCS/Cichlids/clipped_clips/000000090.mp4\n",
            "\t...writing clip /content/drive/MyDrive/OMSCS/Cichlids/clipped_clips/000000091.mp4\n",
            "\t...writing clip /content/drive/MyDrive/OMSCS/Cichlids/clipped_clips/000000092.mp4\n",
            "\t...writing clip /content/drive/MyDrive/OMSCS/Cichlids/clipped_clips/000000093.mp4\n"
          ]
        }
      ],
      "source": [
        "# Initialize and run the VideoClipper\n",
        "clipper = VideoClipper(video_index=1, video_file=video_file, clips_dir=clips_dir, fps=30, fpc=300, debug=True)\n",
        "clipper.run()"
      ]
    },
    {
      "cell_type": "markdown",
      "metadata": {
        "id": "uOxJf53hRHrH"
      },
      "source": [
        "### Extract Frames from Video Clips\n",
        "\n",
        "This section includes functions to extract frames from the video clips at a specified frame rate. It reads all video files in the specified directory and extracts frames from each video."
      ]
    },
    {
      "cell_type": "code",
      "execution_count": null,
      "metadata": {
        "colab": {
          "base_uri": "https://localhost:8080/"
        },
        "id": "4bQckM93hSts",
        "outputId": "5b62638a-905b-45f8-de1f-7f21df9128d1"
      },
      "outputs": [
        {
          "name": "stdout",
          "output_type": "stream",
          "text": [
            "Number of frames extracted: 917\n"
          ]
        }
      ],
      "source": [
        "import cv2\n",
        "import os\n",
        "\n",
        "def extract_frames(video_path, frame_rate=30):\n",
        "    cap = cv2.VideoCapture(video_path)\n",
        "    frames = []\n",
        "    count = 0\n",
        "    while cap.isOpened():\n",
        "        ret, frame = cap.read()\n",
        "        if not ret:\n",
        "            break\n",
        "        if count % frame_rate == 0:\n",
        "            frames.append(frame)\n",
        "        count += 1\n",
        "    cap.release()\n",
        "    return frames\n",
        "\n",
        "def read_videos_and_extract_frames(directory, frame_rate=30):\n",
        "    all_frames = []\n",
        "    video_files = [os.path.join(directory, f) for f in os.listdir(directory) if f.endswith('.mp4')]\n",
        "    for video_path in video_files:\n",
        "        frames = extract_frames(video_path, frame_rate)\n",
        "        all_frames.extend(frames)\n",
        "    return all_frames\n",
        "\n",
        "directory = '/content/drive/MyDrive/OMSCS/Cichlids/clipped_clips/'\n",
        "all_frames = read_videos_and_extract_frames(directory)\n",
        "\n",
        "# To verify the number of frames extracted\n",
        "print(f\"Number of frames extracted: {len(all_frames)}\")"
      ]
    },
    {
      "cell_type": "markdown",
      "metadata": {
        "id": "hRARMc6LRYk1"
      },
      "source": [
        "### Set Environment Variables and Import Libraries\n",
        "\n",
        "This cell sets environment variables to control the number of threads used by various libraries. It also imports required libraries for further processing."
      ]
    },
    {
      "cell_type": "code",
      "execution_count": null,
      "metadata": {
        "id": "_qVQWk5OHeDr"
      },
      "outputs": [],
      "source": [
        "import os\n",
        "os.environ['OMP_NUM_THREADS'] = '1'\n",
        "os.environ['OPENBLAS_NUM_THREADS'] = '1'\n",
        "os.environ['MKL_NUM_THREADS'] = '1'\n",
        "os.environ['VECLIB_MAXIMUM_THREADS'] = '1'\n",
        "os.environ['NUMEXPR_NUM_THREADS'] = '1'\n",
        "\n",
        "import warnings ; warnings.filterwarnings('ignore')\n",
        "import numpy as np\n",
        "import scipy.ndimage.filters\n",
        "import hmmlearn\n",
        "from hmmlearn import hmm"
      ]
    },
    {
      "cell_type": "markdown",
      "metadata": {
        "id": "5u39Ae_gRnwA"
      },
      "source": [
        "### Define Parameters for Processing\n",
        "\n",
        "This cell sets various parameters that will be used for filtering and analyzing the frames, such as the mean window, mean cushion, HMM window, etc."
      ]
    },
    {
      "cell_type": "code",
      "execution_count": null,
      "metadata": {
        "id": "pbLcFS-JLRiu"
      },
      "outputs": [],
      "source": [
        "\"\"\" Define parameters \"\"\"\n",
        "mean_window = 120           # How many seconds does it take to calculate means for filtering out the noisy data\n",
        "mean_cushion = 7.5          # Grayscale change in pixel value for filtering out large pixel changes for HMM analysis\n",
        "hmm_window = 10             # Used for reducing the number of states for HMM calculation\n",
        "seconds_to_change = 1800    # Used to determine the transition expectation from one state to another (i.e., how many manipulations occur)\n",
        "non_transition_bins = 2     # Parameter to prevent small changes in the state\n",
        "std = 100                   # Standard deviation of pixel data in HMM analysis"
      ]
    },
    {
      "cell_type": "markdown",
      "metadata": {
        "id": "XQxYS86mXwNc"
      },
      "source": [
        "### Define functions for interpolating noisy pixels and extracting features\n",
        "\n",
        "This section includes a function to interpolate noisy pixels in a frame and another function to extract Local Binary Pattern (LBP) features from a frame.\n",
        "\n",
        "#### What does a uniform filter do?\n",
        "\n",
        "1.   **Smoothing**: Reduces noise and high-frequency details, resulting in a smoother image.\n",
        "2.   **Edge Preservation**: Preserves edges to some extent due to the equal weight distribution within the filter.\n",
        "3.   **Background Extraction**: Can help reduce background clutter by averaging local pixel values.\n",
        "\n",
        "#### Steps taken below:\n",
        "\n",
        "1. **Noise Handling**: You identify noisy frames and interpolate them using `interpolate_noisy_pixels`.\n",
        "2. **Feature Extraction**: Extracting features from each frame using LBP (Local Binary Patterns). It captures local texture patterns in an image. This can be helpful for identifying changes in sand texture caused by manipulation.\n",
        "3. **HMM Training**: Now I am training the HMM on the extracted features to predict the hidden states for each frame.\n",
        "4. **Clustering**: Using DBSCAN clustering on the predicted states (treated as features) to group similar frames.\n",
        "5. **Sand Manipulation Identification**: I could identify frames potentially associated with sand manipulation based on the clustering results.\n",
        "\n"
      ]
    },
    {
      "cell_type": "code",
      "execution_count": null,
      "metadata": {
        "id": "mH9EGwQRV9hz"
      },
      "outputs": [],
      "source": [
        "from scipy.ndimage import uniform_filter, median_filter\n",
        "from skimage.feature import local_binary_pattern\n",
        "from scipy.interpolate import griddata\n",
        "import numpy as np\n",
        "\n",
        "def interpolate_noisy_pixels(frame, noisy_pixels):\n",
        "    # Convert the noisy_pixels to mask for OpenCV (invert for non-noisy pixels)\n",
        "    mask = np.logical_not(noisy_pixels)\n",
        "    # Use OpenCV's bilinear interpolation with boundary handling\n",
        "    interpolated_frame = cv2.filter2D(frame.astype('float32'), -1, mask.astype('float32'), borderType=cv2.BORDER_REPLICATE)\n",
        "    # Fill the remaining noisy pixels (if any) with the original value (or another strategy)\n",
        "    interpolated_frame[noisy_pixels] = frame[noisy_pixels]\n",
        "    return interpolated_frame.astype('uint8')\n",
        "\n",
        "def extract_features(frame):\n",
        "    # Extract LBP features from the frame\n",
        "    gray_frame = cv2.cvtColor(frame, cv2.COLOR_BGR2GRAY)\n",
        "    lbp = local_binary_pattern(gray_frame, 8, 1, method='uniform')\n",
        "    return lbp.flatten()"
      ]
    },
    {
      "cell_type": "markdown",
      "metadata": {
        "id": "deYuneDMSMk_"
      },
      "source": [
        "### Process Frames to Identify and Interpolate Noisy Data, Extract Features\n",
        "\n",
        "This cell processes each frame to identify noisy pixels, interpolate them, and extract features using LBP. The results are stored in arrays for further analysis."
      ]
    },
    {
      "cell_type": "code",
      "execution_count": null,
      "metadata": {
        "colab": {
          "background_save": true
        },
        "id": "QkPFQrEFSHnY",
        "outputId": "ff4e2cbd-2768-4a0b-c301-abb5cc40bda0"
      },
      "outputs": [
        {
          "name": "stdout",
          "output_type": "stream",
          "text": [
            "Frames with noisy data: [0, 2, 569, 571, 591, 610, 611, 612, 613, 614, 615, 616, 617, 618, 619, 620, 621, 625, 627, 628, 629, 630, 631, 632, 633, 634, 635, 637, 639, 640, 641, 642, 643, 644, 645, 646, 647, 648, 649, 650, 651, 652, 653, 654, 655, 656, 657, 658, 659, 660, 661, 662, 663, 664, 665, 666, 667, 668, 669, 670, 671, 675, 677, 679, 681, 684, 685, 687, 688, 689, 690, 691, 693, 694, 695, 696, 697, 699, 700, 701, 702, 703, 705, 706, 707, 708, 709, 710, 711, 715, 716, 717, 721, 729, 740, 741]\n"
          ]
        }
      ],
      "source": [
        "frames = all_frames  # Assuming `all_frames` is a list or numpy array of frames\n",
        "filtered_frames = np.empty_like(frames)\n",
        "threshold_multiplier = 3.82  # Adjust this value to change sensitivity\n",
        "noisy_indices = []\n",
        "features = []\n",
        "\n",
        "for i in range(len(frames)):\n",
        "    frame = frames[i]\n",
        "    filtered_frame = uniform_filter(frame, size=3, mode='reflect').astype('uint8')\n",
        "    frame_std = np.std(frame)\n",
        "    noisy_pixels = np.abs(frame - filtered_frame) > threshold_multiplier * frame_std\n",
        "    if np.any(noisy_pixels):\n",
        "        #print(f\"Frame {i} has noisy data.\")\n",
        "        frames[i] = interpolate_noisy_pixels(frame, noisy_pixels)  # Interpolate noisy pixels in the frame\n",
        "        noisy_indices.append(i)\n",
        "    filtered_frames[i] = filtered_frame\n",
        "    features.append(extract_features(frames[i]))  # Extract features for each frame\n",
        "\n",
        "if noisy_indices:\n",
        "    print(\"Frames with noisy data:\", noisy_indices)\n",
        "else:\n",
        "    print(\"No frames with noisy data found.\")"
      ]
    },
    {
      "cell_type": "markdown",
      "metadata": {
        "id": "cw_YpmTWSe45"
      },
      "source": [
        "### Dimensionality Reduction with PCA and HMM State Prediction\n",
        "\n",
        "This section reduces the feature dimensionality using PCA and applies an HMM to predict states for each frame."
      ]
    },
    {
      "cell_type": "code",
      "execution_count": null,
      "metadata": {
        "colab": {
          "background_save": true
        },
        "id": "h9TfMeSH7nIR",
        "outputId": "996cbfda-7825-4f5f-a430-3cd1909f93c8"
      },
      "outputs": [
        {
          "name": "stdout",
          "output_type": "stream",
          "text": [
            "Predicted states for each frame:\n",
            " [3 2 3 2 2 2 2 2 2 2 0 0 0 2 2 2 2 2 2 2 0 0 0 2 2 2 2 2 2 2 0 0 0 2 2 2 2\n",
            " 2 2 2 0 0 0 2 2 2 2 2 2 2 0 0 0 2 2 2 2 2 2 2 0 0 0 2 2 2 2 2 2 2 0 0 0 2\n",
            " 2 2 2 2 2 2 0 0 0 2 2 2 2 2 2 2 0 0 0 2 2 2 2 2 2 2 0 0 0 2 2 2 2 2 2 2 0\n",
            " 0 0 2 2 2 2 2 2 2 0 0 0 2 2 2 2 2 2 2 0 0 0 2 2 2 2 2 2 2 0 0 0 2 2 2 2 2\n",
            " 2 2 0 0 0 0 2 2 2 2 2 2 0 0 0 2 2 2 2 2 2 2 0 0 0 2 2 2 2 2 2 2 0 0 0 2 2\n",
            " 2 2 2 2 2 0 0 0 2 2 2 2 2 2 2 0 0 0 2 2 2 2 2 2 2 0 0 0 2 2 2 2 2 2 2 0 0\n",
            " 0 2 2 2 2 2 2 2 0 0 0 2 2 2 2 2 2 2 0 0 0 2 2 2 2 2 2 2 0 0 0 2 2 2 2 2 2\n",
            " 2 0 0 0 2 2 2 2 2 2 2 0 0 0 2 2 2 2 2 2 2 0 0 0 2 2 2 2 2 2 2 0 0 0 2 2 2\n",
            " 2 2 2 2 0 0 0 2 2 2 2 2 2 2 0 0 0 2 2 2 2 2 2 2 0 0 0 2 2 2 2 2 2 2 0 0 0\n",
            " 2 2 2 2 2 2 2 0 0 0 2 2 2 2 2 2 2 0 0 0 2 2 2 2 2 2 2 0 0 0 2 2 2 2 2 2 2\n",
            " 0 0 0 2 2 2 2 2 2 2 0 0 0 2 2 2 2 2 2 2 0 0 0 2 2 2 2 2 2 2 0 0 0 2 2 2 2\n",
            " 2 2 2 0 0 0 2 2 2 2 2 2 2 0 0 0 2 2 2 2 2 2 2 0 0 0 2 2 2 2 2 2 2 0 0 0 0\n",
            " 2 2 2 2 2 2 0 0 0 2 2 2 2 2 2 2 0 0 0 2 2 2 2 2 2 2 0 0 0 2 2 2 2 2 2 2 0\n",
            " 0 0 2 2 2 2 2 2 2 0 0 0 2 2 2 2 2 2 2 0 0 0 2 2 2 2 2 2 2 0 0 0 2 2 2 2 2\n",
            " 2 2 0 0 0 2 2 2 2 2 2 2 0 0 0 2 2 2 2 2 2 2 0 0 0 2 2 2 2 2 2 2 0 0 0 2 2\n",
            " 2 2 2 2 2 0 0 0 2 2 2 2 2 2 3 2 3 2 2 2 2 2 2 2 2 0 0 0 2 2 2 2 2 2 2 2 3\n",
            " 2 2 2 2 2 2 2 2 0 0 0 2 2 2 2 2 2 2 3 3 3 3 3 3 3 3 3 3 3 3 2 2 2 3 2 3 3\n",
            " 3 3 3 3 3 3 3 2 3 2 3 3 3 3 3 3 3 3 3 3 3 3 3 3 3 3 3 3 3 3 3 3 3 3 3 3 3\n",
            " 3 3 3 3 3 3 0 0 2 3 2 3 2 3 0 3 0 2 3 3 2 3 3 3 3 3 2 3 3 3 3 3 2 3 3 3 3\n",
            " 3 2 3 3 3 3 3 3 3 2 2 2 3 3 3 2 2 2 1 2 2 2 2 2 2 2 3 0 0 0 2 2 2 2 2 2 2\n",
            " 3 3 2 2 2 2 2 2 2 2 0 0 0 2 2 2 2 2 2 2 0 0 0 2 2 2 2 2 2 2 0 0 0 2 2 2 2\n",
            " 2 2 2 0 0 0 2 2 2 2 2 2 2 0 0 0 2 2 2 2 2 2 2 0 0 0 2 2 2 2 2 2 2 0 0 0 2\n",
            " 2 2 2 2 2 2 0 0 0 2 2 2 2 2 2 2 0 0 0 2 2 2 2 2 2 2 0 0 0 2 2 2 2 2 2 2 0\n",
            " 0 0 2 2 2 2 2 2 2 0 0 0 2 2 2 2 2 2 2 0 0 0 2 2 2 2 2 2 2 0 0 0 2 2 2 2 2\n",
            " 2 2 0 0 0 2 2 2 2 2 2 2 0 0 0 2 2 2 2 2 2 2 0 0 0 2 2 2 0]\n"
          ]
        }
      ],
      "source": [
        "from sklearn.decomposition import PCA\n",
        "\n",
        "features_array = np.array(features)\n",
        "\n",
        "# Reduce feature dimensionality using PCA\n",
        "pca = PCA(n_components=0.8)\n",
        "features_reduced = pca.fit_transform(features_array)\n",
        "\n",
        "# Define the HMM model with adjusted parameters\n",
        "n_components = 5    # Number of states in HMM, adjust based on use case\n",
        "model = hmm.GaussianHMM(n_components=n_components, covariance_type=\"diag\", n_iter=50)\n",
        "\n",
        "# Train the HMM model\n",
        "model.fit(features_reduced)\n",
        "\n",
        "# Predict the states for each frame (example)\n",
        "predicted_states = model.predict(features_reduced)\n",
        "print(\"Predicted states for each frame:\\n\", predicted_states)"
      ]
    },
    {
      "cell_type": "markdown",
      "metadata": {
        "id": "Phx3QbCSSsPB"
      },
      "source": [
        "### Apply DBSCAN Clustering to Predicted States\n",
        "\n",
        "This cell applies the DBSCAN algorithm to cluster the predicted states and visualizes the clusters using a scatter plot."
      ]
    },
    {
      "cell_type": "code",
      "execution_count": null,
      "metadata": {
        "colab": {
          "background_save": true
        },
        "id": "NfrGofoIAOUt",
        "outputId": "c57fbc24-acbd-4b77-ef26-ea881e247963"
      },
      "outputs": [
        {
          "data": {
            "image/png": "[encoded data removed]",
            "text/plain": [
              "<Figure size 800x300 with 2 Axes>"
            ]
          },
          "metadata": {},
          "output_type": "display_data"
        },
        {
          "name": "stdout",
          "output_type": "stream",
          "text": [
            "Cluster -1: [721]\n",
            "Cluster 0: [  0   2 569 571 591 610 611 612 613 614 615 616 617 618 619 620 621 625\n",
            " 627 628 629 630 631 632 633 634 635 637 639 640 641 642 643 644 645 646\n",
            " 647 648 649 650 651 652 653 654 655 656 657 658 659 660 661 662 663 664\n",
            " 665 666 667 668 669 670 671 675 677 679 681 684 685 687 688 689 690 691\n",
            " 693 694 695 696 697 699 700 701 702 703 705 706 707 708 709 710 711 715\n",
            " 716 717 729 740 741]\n",
            "Cluster 1: [  1   3   4   5   6   7   8   9  13  14  15  16  17  18  19  23  24  25\n",
            "  26  27  28  29  33  34  35  36  37  38  39  43  44  45  46  47  48  49\n",
            "  53  54  55  56  57  58  59  63  64  65  66  67  68  69  73  74  75  76\n",
            "  77  78  79  83  84  85  86  87  88  89  93  94  95  96  97  98  99 103\n",
            " 104 105 106 107 108 109 113 114 115 116 117 118 119 123 124 125 126 127\n",
            " 128 129 133 134 135 136 137 138 139 143 144 145 146 147 148 149 154 155\n",
            " 156 157 158 159 163 164 165 166 167 168 169 173 174 175 176 177 178 179\n",
            " 183 184 185 186 187 188 189 193 194 195 196 197 198 199 203 204 205 206\n",
            " 207 208 209 213 214 215 216 217 218 219 223 224 225 226 227 228 229 233\n",
            " 234 235 236 237 238 239 243 244 245 246 247 248 249 253 254 255 256 257\n",
            " 258 259 263 264 265 266 267 268 269 273 274 275 276 277 278 279 283 284\n",
            " 285 286 287 288 289 293 294 295 296 297 298 299 303 304 305 306 307 308\n",
            " 309 313 314 315 316 317 318 319 323 324 325 326 327 328 329 333 334 335\n",
            " 336 337 338 339 343 344 345 346 347 348 349 353 354 355 356 357 358 359\n",
            " 363 364 365 366 367 368 369 373 374 375 376 377 378 379 383 384 385 386\n",
            " 387 388 389 393 394 395 396 397 398 399 403 404 405 406 407 408 409 413\n",
            " 414 415 416 417 418 419 423 424 425 426 427 428 429 433 434 435 436 437\n",
            " 438 439 444 445 446 447 448 449 453 454 455 456 457 458 459 463 464 465\n",
            " 466 467 468 469 473 474 475 476 477 478 479 483 484 485 486 487 488 489\n",
            " 493 494 495 496 497 498 499 503 504 505 506 507 508 509 513 514 515 516\n",
            " 517 518 519 523 524 525 526 527 528 529 533 534 535 536 537 538 539 543\n",
            " 544 545 546 547 548 549 553 554 555 556 557 558 559 563 564 565 566 567\n",
            " 568 570 572 573 574 575 576 577 578 579 583 584 585 586 587 588 589 590\n",
            " 592 593 594 595 596 597 598 599 603 604 605 606 607 608 609 622 623 624\n",
            " 626 636 638 674 676 678 683 686 692 698 704 712 713 714 718 719 720 722\n",
            " 723 724 725 726 727 728 733 734 735 736 737 738 739 742 743 744 745 746\n",
            " 747 748 749 753 754 755 756 757 758 759 763 764 765 766 767 768 769 773\n",
            " 774 775 776 777 778 779 783 784 785 786 787 788 789 793 794 795 796 797\n",
            " 798 799 803 804 805 806 807 808 809 813 814 815 816 817 818 819 823 824\n",
            " 825 826 827 828 829 833 834 835 836 837 838 839 843 844 845 846 847 848\n",
            " 849 853 854 855 856 857 858 859 863 864 865 866 867 868 869 873 874 875\n",
            " 876 877 878 879 883 884 885 886 887 888 889 893 894 895 896 897 898 899\n",
            " 903 904 905 906 907 908 909 913 914 915]\n",
            "Cluster 2: [ 10  11  12  20  21  22  30  31  32  40  41  42  50  51  52  60  61  62\n",
            "  70  71  72  80  81  82  90  91  92 100 101 102 110 111 112 120 121 122\n",
            " 130 131 132 140 141 142 150 151 152 153 160 161 162 170 171 172 180 181\n",
            " 182 190 191 192 200 201 202 210 211 212 220 221 222 230 231 232 240 241\n",
            " 242 250 251 252 260 261 262 270 271 272 280 281 282 290 291 292 300 301\n",
            " 302 310 311 312 320 321 322 330 331 332 340 341 342 350 351 352 360 361\n",
            " 362 370 371 372 380 381 382 390 391 392 400 401 402 410 411 412 420 421\n",
            " 422 430 431 432 440 441 442 443 450 451 452 460 461 462 470 471 472 480\n",
            " 481 482 490 491 492 500 501 502 510 511 512 520 521 522 530 531 532 540\n",
            " 541 542 550 551 552 560 561 562 580 581 582 600 601 602 672 673 680 682\n",
            " 730 731 732 750 751 752 760 761 762 770 771 772 780 781 782 790 791 792\n",
            " 800 801 802 810 811 812 820 821 822 830 831 832 840 841 842 850 851 852\n",
            " 860 861 862 870 871 872 880 881 882 890 891 892 900 901 902 910 911 912\n",
            " 916]\n"
          ]
        }
      ],
      "source": [
        "from sklearn.cluster import DBSCAN\n",
        "import matplotlib.pyplot as plt\n",
        "\n",
        "# Apply DBSCAN to the predicted states\n",
        "dbscan = DBSCAN(eps=0.5, min_samples=5)\n",
        "predicted_states = predicted_states.reshape(-1, 1)  # Reshape for DBSCAN\n",
        "clusters = dbscan.fit_predict(predicted_states)\n",
        "\n",
        "# Plot the clusters\n",
        "plt.figure(figsize=(8, 3))\n",
        "plt.scatter(np.arange(len(clusters)), clusters, c=clusters, cmap='viridis', marker='o')\n",
        "plt.title('DBSCAN Clusters of Predicted States')\n",
        "plt.xlabel('Frame Index')\n",
        "plt.ylabel('Cluster')\n",
        "plt.colorbar()\n",
        "plt.show()\n",
        "\n",
        "# Analyze the clusters\n",
        "unique_clusters = np.unique(clusters)\n",
        "for cluster in unique_clusters:\n",
        "    cluster_indices = np.where(clusters == cluster)[0]\n",
        "    print(f\"Cluster {cluster}: {cluster_indices}\")"
      ]
    },
    {
      "cell_type": "markdown",
      "metadata": {
        "id": "PYfQ4p0KS6RT"
      },
      "source": [
        "### Graveyard\n",
        "\n",
        "All code cells that I tried experimenting with, but ultimately led me down another, more fruitful direction."
      ]
    },
    {
      "cell_type": "code",
      "execution_count": null,
      "metadata": {
        "id": "L5Zvf879MU7r"
      },
      "outputs": [],
      "source": [
        "# Loading the data\n",
        "frames_data = all_frames\n",
        "\n",
        "# Processing each frame\n",
        "output_data = []\n",
        "\n",
        "for i, frame in enumerate(frames_data):\n",
        "    # Calculate means over mean_window parameter\n",
        "    mean_values = scipy.ndimage.filters.uniform_filter(frame, size=(1, mean_window), mode='reflect').astype('uint8')\n",
        "\n",
        "    # Identify data that falls outside of mean using mean_cushion\n",
        "    noisy_indices = (((frame > mean_values + mean_cushion) | (frame < mean_values - mean_cushion)))\n",
        "    frame[noisy_indices] = 0\n",
        "\n",
        "    # Interpolate noisy data for HMM\n",
        "    nan_indices = frame == 0\n",
        "    x = lambda z: z.nonzero()[0]\n",
        "    frame[nan_indices] = np.interp(x(nan_indices), x(~nan_indices), frame[~nan_indices])\n",
        "\n",
        "    # Collect HMM for the frame\n",
        "    means = scipy.ndimage.filters.uniform_filter(frame, size=hmm_window, mode='reflect').astype('uint8')\n",
        "    freq, bins = np.histogram(means, bins=range(0, 257, 2))\n",
        "    states = bins[:-1][freq > hmm_window]\n",
        "    n_states = len(states)\n",
        "\n",
        "    # Build the HMM model\n",
        "    model = hmm.GaussianHMM(n_components=n_states, covariance_type='spherical')\n",
        "    model.startprob_ = np.full(n_states, 1 / n_states)\n",
        "\n",
        "    change = 1 / seconds_to_change    # Probability of transitioning states\n",
        "\n",
        "    # Creating the transition matrix\n",
        "    trans = np.zeros((n_states, n_states))\n",
        "    for k, state in enumerate(states):\n",
        "        s_trans = np.zeros(states.shape)\n",
        "        n_trans_states = np.count_nonzero(\n",
        "            (states > state + non_transition_bins) | (states < state - non_transition_bins)\n",
        "        )\n",
        "        if n_trans_states != 0:\n",
        "            s_trans[(states > state + non_transition_bins) | (state < state - non_transition_bins)] = change / n_trans_states\n",
        "            s_trans[states == state] = 1 - change\n",
        "        else:\n",
        "            s_trans[states == state] = 1\n",
        "        trans[k] = s_trans\n",
        "\n",
        "    model.transmat_ = trans\n",
        "    model.means_ = states.reshape(-1, 1)\n",
        "    model.covars_ = np.full(n_states, std)\n",
        "\n",
        "    # Predict using the HMM model\n",
        "    predicted_states = model.predict(frame.reshape(-1, 1))\n",
        "\n",
        "    # Collect results\n",
        "    for j, state in enumerate(predicted_states):\n",
        "        output_data([j, state, i])  # Modify output as needed\n",
        "\n",
        "output_data = np.array(output_data)\n",
        "np.save('hmm_results.npy', output_data)"
      ]
    },
    {
      "cell_type": "code",
      "execution_count": null,
      "metadata": {
        "id": "Se3N6sVLkSIT"
      },
      "outputs": [],
      "source": [
        "import cv2\n",
        "\n",
        "def background_subtraction(video_path):\n",
        "    cap = cv2.VideoCapture(video_path)\n",
        "    fgbg = cv2.createBackgroundSubtractorMOG2()\n",
        "\n",
        "    while cap.isOpened():\n",
        "        ret, frame = cap.read()\n",
        "        if not ret:\n",
        "          break\n",
        "        fgmask = fgbg.apply(frame)\n",
        "        cv2.imshow('Frame', frame)\n",
        "        cv2.imshow('FG Mask', fgmask)\n",
        "\n",
        "        if cv2.waitKey(30) & 0xFF == ord('q'):\n",
        "            break\n",
        "\n",
        "    cap.release()\n",
        "    cv2.destroyAllWindows()\n",
        "\n",
        "long_video = '/content/drive/MyDrive/OMSCS/Cichlids/clipped_file_15mins.mp4'\n",
        "background_subtraction(long_video)"
      ]
    },
    {
      "cell_type": "code",
      "execution_count": null,
      "metadata": {
        "id": "9rs_bz20ljZC"
      },
      "outputs": [],
      "source": [
        "from sklearn.cluster import DBSCAN\n",
        "\n",
        "def detect_sand_manipulation(flow, mag_threshold=1.0, eps=3, min_samples=5):\n",
        "    mag, ang = cv2.cartToPolar(flow[..., 0], flow[..., 1])\n",
        "    significant_movement = mag > mag_threshold\n",
        "    movement_coords = np.column_stack(np.nonzero(significant_movement))\n",
        "\n",
        "    clustering = DBSCAN(eps=eps, min_samples=min_samples).fit(movement_coords)\n",
        "    labels = clustering.labels_\n",
        "    unique_labels = set(labels)\n",
        "\n",
        "    sand_clusters = []\n",
        "    for label in unique_labels:\n",
        "        if label != -1:\n",
        "            cluster_coords = movement_coords[labels == label]\n",
        "            sand_clusters.append(cluster_coords)\n",
        "\n",
        "    return sand_clusters"
      ]
    },
    {
      "cell_type": "code",
      "execution_count": null,
      "metadata": {
        "id": "aF1ggd__l1x4"
      },
      "outputs": [],
      "source": [
        "import matplotlib.pyplot as plt\n",
        "\n",
        "def visualize_clusters(frame, clusters):\n",
        "    for cluster in clusters:\n",
        "        for coord in cluster:\n",
        "            cv2.circle(frame, (coord[1], coord[0]), 2, (0, 255, 0), -1)\n",
        "    cv2.imshow('Sand Manipulation', frame)\n",
        "    cv2.waitKey(0)"
      ]
    },
    {
      "cell_type": "code",
      "execution_count": null,
      "metadata": {
        "id": "mLl6Sgc3krWe"
      },
      "outputs": [],
      "source": [
        "import numpy as np\n",
        "import cv2\n",
        "\n",
        "def compute_optical_flow(video_path):\n",
        "    cap = cv2.VideoCapture(video_path)\n",
        "    ret, prev_frame = cap.read()\n",
        "    prev_gray = cv2.cvtColor(prev_frame, cv2.COLOR_BGR2GRAY)\n",
        "\n",
        "    while cap.isOpened():\n",
        "        ret, next_frame = cap.read()\n",
        "        if not ret:\n",
        "            break\n",
        "        next_gray = cv2.cvtColor(next_frame, cv2.COLOR_BGR2GRAY)\n",
        "        flow = cv2.calcOpticalFlowFarneback(prev_gray, next_gray, None, 0.5, 3, 15, 3, 5, , 1.2, 0)\n",
        "        sand_clusters = detect_sand_manipulation(flow)\n",
        "        visualize_clusters(next_frame, sand_clusters)\n",
        "\n",
        "        # Visualization\n",
        "        hsv = np.zeros_like(prev_frame)\n",
        "        hsv[..., 1] = 255\n",
        "        mag, ang = cv2.CartToPolar(flow[..., 0], flow[..., 1])\n",
        "        hsv[..., 0] = ang * 100 / np.pi / 2\n",
        "        hsv[..., 2] = cv2.normalize(mag, None, 0, 255, cv2.NORM_MINMAX)\n",
        "        bgr = cv2.cvtColor(hsv, cv2.COLOR_HSV2BGR)\n",
        "\n",
        "        cv2.imshow('Frame', next_frame)\n",
        "        cv2.imshow('Optical Flow', bgr)\n",
        "\n",
        "        if cv2.waitKey(30) & 0xFF == ord('q'):\n",
        "            break\n",
        "\n",
        "        prev_gray = next_gray\n",
        "\n",
        "    cap.release()\n",
        "    cv2.destroyAllWindows()"
      ]
    }
  ],
  "metadata": {
    "colab": {
      "machine_shape": "hm",
      "provenance": []
    },
    "kernelspec": {
      "display_name": "Python 3",
      "name": "python3"
    },
    "language_info": {
      "name": "python"
    }
  },
  "nbformat": 4,
  "nbformat_minor": 0
}