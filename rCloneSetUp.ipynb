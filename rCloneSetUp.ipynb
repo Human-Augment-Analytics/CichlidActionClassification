{
 "cells": [
  {
   "cell_type": "code",
   "execution_count": 4,
   "id": "5ecde3ef",
   "metadata": {},
   "outputs": [
    {
     "name": "stdout",
     "output_type": "stream",
     "text": [
      "--2024-05-28 16:10:41--  https://downloads.rclone.org/rclone-current-linux-amd64.zip\n",
      "Resolving downloads.rclone.org (downloads.rclone.org)... 95.217.6.16, 2a01:4f9:c012:7154::1\n",
      "Connecting to downloads.rclone.org (downloads.rclone.org)|95.217.6.16|:443... connected.\n",
      "HTTP request sent, awaiting response... 200 OK\n",
      "Length: 21137057 (20M) [application/zip]\n",
      "Saving to: ‘rclone.zip’\n",
      "\n",
      "rclone.zip          100%[===================>]  20.16M  14.3MB/s    in 1.4s    \n",
      "\n",
      "2024-05-28 16:10:43 (14.3 MB/s) - ‘rclone.zip’ saved [21137057/21137057]\n",
      "\n"
     ]
    }
   ],
   "source": [
    "!wget https://downloads.rclone.org/rclone-current-linux-amd64.zip -O rclone.zip"
   ]
  },
  {
   "cell_type": "code",
   "execution_count": 5,
   "id": "3c4cfd41",
   "metadata": {},
   "outputs": [
    {
     "name": "stdout",
     "output_type": "stream",
     "text": [
      "Archive:  rclone.zip\n",
      "   creating: rclone-v1.66.0-linux-amd64/\n",
      "  inflating: rclone-v1.66.0-linux-amd64/README.html  \n",
      "  inflating: rclone-v1.66.0-linux-amd64/README.txt  \n",
      "  inflating: rclone-v1.66.0-linux-amd64/rclone  \n",
      "  inflating: rclone-v1.66.0-linux-amd64/git-log.txt  \n",
      "  inflating: rclone-v1.66.0-linux-amd64/rclone.1  \n"
     ]
    }
   ],
   "source": [
    "!unzip rclone.zip"
   ]
  },
  {
   "cell_type": "code",
   "execution_count": 6,
   "id": "4cc8e51a",
   "metadata": {},
   "outputs": [],
   "source": [
    "!mkdir -p ~/bin\n",
    "!mv rclone-*-linux-amd64/rclone ~/bin/"
   ]
  },
  {
   "cell_type": "code",
   "execution_count": 7,
   "id": "e0ea33e4",
   "metadata": {},
   "outputs": [
    {
     "name": "stdout",
     "output_type": "stream",
     "text": [
      "rclone v1.66.0\r\n",
      "- os/version: redhat 9.3 (64 bit)\r\n",
      "- os/kernel: 5.14.0-362.24.1.el9_3.x86_64 (x86_64)\r\n",
      "- os/type: linux\r\n",
      "- os/arch: amd64\r\n",
      "- go/version: go1.22.1\r\n",
      "- go/linking: static\r\n",
      "- go/tags: none\r\n"
     ]
    }
   ],
   "source": [
    "import os\n",
    "\n",
    "# Add the ~/bin directory to the PATH environment variable\n",
    "os.environ[\"PATH\"] += os.pathsep + os.path.expanduser(\"~/bin\")\n",
    "\n",
    "# Verify rclone is in the PATH\n",
    "!rclone version"
   ]
  },
  {
   "cell_type": "code",
   "execution_count": 8,
   "id": "fa1ed186",
   "metadata": {},
   "outputs": [],
   "source": [
    "config_content = \"\"\"\n",
    "[cichlidVideo]\n",
    "type = dropbox\n",
    "token = {\"access_token\":\"QavrKk0kAl0AAAAAAAAAAbfzpglzOdsJlJpXggmJone42zK7QjSDtDu6Lb9MV3HT\",\"token_type\":\"bearer\",\"expiry\":\"0001-01-01T00:00:00Z\"}\n",
    "\"\"\"\n",
    "\n",
    "# Write the content to the rclone.conf file\n",
    "with open('rclone.conf', 'w') as config_file:\n",
    "    config_file.write(config_content)"
   ]
  },
  {
   "cell_type": "code",
   "execution_count": 9,
   "id": "ed094116",
   "metadata": {},
   "outputs": [
    {
     "name": "stdout",
     "output_type": "stream",
     "text": [
      "      239 ._TI2_4.y4oZPj\r\n",
      "547389440 CV10_3.tar\r\n",
      "613528064 MC16_2.tar\r\n",
      "328759808 MC6_5.tar\r\n",
      "  1672192 MC_singlenuc21_6_Tk53_030320.tar\r\n",
      "151787520 MC_singlenuc23_8_Tk33_031720.tar\r\n",
      " 91873280 MC_singlenuc28_1_Tk3_022520.tar\r\n",
      " 63969280 MC_singlenuc29_3_Tk9_030320.tar\r\n",
      "103055360 MC_singlenuc35_11_Tk61_051220.tar\r\n",
      " 92805120 MC_singlenuc36_2_Tk3_030320.tar\r\n",
      " 61839360 MC_singlenuc41_2_Tk9_030920.tar\r\n",
      " 71813120 MC_singlenuc46_2_Tk53_030920.tar\r\n",
      "113623040 MC_singlenuc50_5_Tk9_050720.tar\r\n",
      " 72960000 MC_singlenuc54_5_Tk53_051220.tar\r\n",
      "161740800 MC_singlenuc62_3_Tk65_060220.tar\r\n",
      "384658432 MCxCVF1_12a_1.tar\r\n",
      "642647552 MCxCVF1_12b_1.tar\r\n",
      "622141440 TI2_4.tar\r\n",
      "518764544 TI3_3.tar\r\n"
     ]
    }
   ],
   "source": [
    "videos_path = \"BioSci-McGrath/Apps/CichlidPiData/__AnnotatedData/LabeledVideos/Clips\"\n",
    "!rclone --config rclone.conf ls cichlidVideo:{videos_path}"
   ]
  },
  {
   "cell_type": "code",
   "execution_count": 11,
   "id": "f9d7a2dd",
   "metadata": {},
   "outputs": [
    {
     "name": "stdout",
     "output_type": "stream",
     "text": [
      "2024/05/28 16:14:58 INFO  : ._TI2_4.y4oZPj: Copied (new)\n",
      "2024/05/28 16:14:58 INFO  : MC_singlenuc21_6_Tk53_030320.tar: Copied (new)\n",
      "2024/05/28 16:15:09 INFO  : MC_singlenuc23_8_Tk33_031720.tar: Copied (new)\n",
      "2024/05/28 16:15:11 INFO  : MC_singlenuc28_1_Tk3_022520.tar: Copied (new)\n",
      "2024/05/28 16:15:13 INFO  : MC6_5.tar: Multi-thread Copied (new)\n",
      "2024/05/28 16:15:13 INFO  : MC_singlenuc29_3_Tk9_030320.tar: Copied (new)\n",
      "2024/05/28 16:15:15 INFO  : MC_singlenuc35_11_Tk61_051220.tar: Copied (new)\n",
      "2024/05/28 16:15:16 INFO  : MC_singlenuc36_2_Tk3_030320.tar: Copied (new)\n",
      "2024/05/28 16:15:17 INFO  : MC_singlenuc41_2_Tk9_030920.tar: Copied (new)\n",
      "2024/05/28 16:15:18 INFO  : MC_singlenuc46_2_Tk53_030920.tar: Copied (new)\n",
      "2024/05/28 16:15:19 INFO  : CV10_3.tar: Multi-thread Copied (new)\n",
      "2024/05/28 16:15:19 INFO  : MC16_2.tar: Multi-thread Copied (new)\n",
      "2024/05/28 16:15:20 INFO  : MC_singlenuc54_5_Tk53_051220.tar: Copied (new)\n",
      "2024/05/28 16:15:20 INFO  : MC_singlenuc50_5_Tk9_050720.tar: Copied (new)\n",
      "2024/05/28 16:15:23 INFO  : MC_singlenuc62_3_Tk65_060220.tar: Copied (new)\n",
      "2024/05/28 16:15:26 INFO  : MCxCVF1_12a_1.tar: Multi-thread Copied (new)\n",
      "2024/05/28 16:15:35 INFO  : TI3_3.tar: Multi-thread Copied (new)\n",
      "2024/05/28 16:15:36 INFO  : TI2_4.tar: Multi-thread Copied (new)\n",
      "2024/05/28 16:15:36 INFO  : MCxCVF1_12b_1.tar: Multi-thread Copied (new)\n",
      "2024/05/28 16:15:36 INFO  : \n",
      "Transferred:   \t    4.326 GiB / 4.326 GiB, 100%, 103.468 MiB/s, ETA 0s\n",
      "Transferred:           19 / 19, 100%\n",
      "Elapsed time:        39.0s\n",
      "\n",
      "2024/05/28 16:15:36 INFO  : Dropbox root 'BioSci-McGrath/Apps/CichlidPiData/__AnnotatedData/LabeledVideos/Clips': Committing uploads - please wait...\n"
     ]
    }
   ],
   "source": [
    "!rclone --config rclone.conf -v copy cichlidVideo:{videos_path} data/labeled_videos/"
   ]
  }
 ],
 "metadata": {
  "kernelspec": {
   "display_name": "Python 3 (ipykernel)",
   "language": "python",
   "name": "python3"
  },
  "language_info": {
   "codemirror_mode": {
    "name": "ipython",
    "version": 3
   },
   "file_extension": ".py",
   "mimetype": "text/x-python",
   "name": "python",
   "nbconvert_exporter": "python",
   "pygments_lexer": "ipython3",
   "version": "3.10.13"
  }
 },
 "nbformat": 4,
 "nbformat_minor": 5
}
